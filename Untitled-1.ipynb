{
 "cells": [
  {
   "cell_type": "code",
   "execution_count": 1,
   "metadata": {},
   "outputs": [
    {
     "name": "stdout",
     "output_type": "stream",
     "text": [
      "hi\n"
     ]
    }
   ],
   "source": [
    "# !pip install qibo\n",
    "print('hi')"
   ]
  },
  {
   "cell_type": "code",
   "execution_count": 2,
   "metadata": {},
   "outputs": [
    {
     "ename": "",
     "evalue": "",
     "output_type": "error",
     "traceback": [
      "\u001b[1;31mThe Kernel crashed while executing code in the the current cell or a previous cell. Please review the code in the cell(s) to identify a possible cause of the failure. Click <a href='https://aka.ms/vscodeJupyterKernelCrash'>here</a> for more info. View Jupyter <a href='command:jupyter.viewOutput'>log</a> for further details."
     ]
    }
   ],
   "source": [
    "from qibo.models import QFT\n",
    "\n",
    "# Create a QFT circuit with 15 qubits\n",
    "circuit = QFT(15)\n",
    "\n",
    "# Simulate final state wavefunction default initial state is |00>\n",
    "final_state = circuit()"
   ]
  },
  {
   "cell_type": "code",
   "execution_count": 5,
   "metadata": {},
   "outputs": [
    {
     "name": "stdout",
     "output_type": "stream",
     "text": [
      "(0.00552+0j)|000000000000000> + (0.00552+0j)|000000000000001> + (0.00552+0j)|000000000000010> + (0.00552+0j)|000000000000011> + (0.00552+0j)|000000000000100> + (0.00552+0j)|000000000000101> + (0.00552+0j)|000000000000110> + (0.00552+0j)|000000000000111> + (0.00552+0j)|000000000001000> + (0.00552+0j)|000000000001001> + (0.00552+0j)|000000000001010> + (0.00552+0j)|000000000001011> + (0.00552+0j)|000000000001100> + (0.00552+0j)|000000000001101> + (0.00552+0j)|000000000001110> + (0.00552+0j)|000000000001111> + (0.00552+0j)|000000000010000> + (0.00552+0j)|000000000010001> + (0.00552+0j)|000000000010010> + (0.00552+0j)|000000000010011> + ...\n"
     ]
    }
   ],
   "source": [
    "print(final_state)\n"
   ]
  },
  {
   "cell_type": "code",
   "execution_count": 7,
   "metadata": {},
   "outputs": [],
   "source": [
    "circuit = QFT(2)\n",
    "final_state = circuit()"
   ]
  },
  {
   "cell_type": "code",
   "execution_count": 8,
   "metadata": {},
   "outputs": [
    {
     "name": "stdout",
     "output_type": "stream",
     "text": [
      "(0.5+0j)|00> + (0.5+0j)|01> + (0.5+0j)|10> + (0.5+0j)|11>\n"
     ]
    }
   ],
   "source": [
    "print(final_state)"
   ]
  },
  {
   "cell_type": "markdown",
   "metadata": {},
   "source": [
    "Add 2 qubits in |0>\n",
    "\n",
    "|0> ----- X ----- |1>\n",
    "\n",
    "|0> ------------- |0>"
   ]
  },
  {
   "cell_type": "code",
   "execution_count": 4,
   "metadata": {},
   "outputs": [],
   "source": [
    "import numpy as np\n",
    "from qibo import Circuit, gates\n",
    "\n",
    "c = Circuit(2)\n",
    "c.add(gates.X(0))\n",
    "\n",
    "# Add a measurement register on both qubits\n",
    "c.add(gates.M(0, 1))\n",
    "\n",
    "# Execute the circuit with the default initial state |00>.\n",
    "result = c(nshots=100)"
   ]
  },
  {
   "cell_type": "code",
   "execution_count": 6,
   "metadata": {},
   "outputs": [
    {
     "name": "stdout",
     "output_type": "stream",
     "text": [
      "(1+0j)|10>\n"
     ]
    }
   ],
   "source": [
    "print(result)\n"
   ]
  },
  {
   "cell_type": "markdown",
   "metadata": {},
   "source": [
    "Here is an example of a circuit with 2 qubits:\n",
    "\n",
    "|+> ----- H ----- |0>\n",
    "\n",
    "|+> ----- H ----- |0>"
   ]
  },
  {
   "cell_type": "code",
   "execution_count": 14,
   "metadata": {},
   "outputs": [
    {
     "name": "stdout",
     "output_type": "stream",
     "text": [
      "[1.+0.j 0.+0.j 0.+0.j 0.+0.j]\n",
      "[1.+0.j 0.+0.j 0.+0.j 0.+0.j]\n"
     ]
    }
   ],
   "source": [
    "# Construct the circuit\n",
    "c = Circuit(2)\n",
    "# Add some gates\n",
    "c.add(gates.H(0))\n",
    "c.add(gates.H(1))\n",
    "# Define an initial state (optional - default initial state is |00>)\n",
    "initial_state = np.ones(4) / 2.0\n",
    "# Execute the circuit and obtain the final state\n",
    "result = c(initial_state) # c.execute(initial_state) also works\n",
    "print(result.state())\n",
    "# should print `tf.Tensor([1, 0, 0, 0])`\n",
    "print(result.state(numpy=True))\n",
    "# should print `np.array([1, 0, 0, 0])`"
   ]
  },
  {
   "cell_type": "markdown",
   "metadata": {},
   "source": [
    "Freeze the circuit and just query for different initial states then you can use the `Circuit.compile()` method which will improve evaluation performance\n",
    "\n",
    "|0> ----- X ----- |1>\n",
    "\n",
    "|0> ----- X ----- |1>"
   ]
  },
  {
   "cell_type": "code",
   "execution_count": 2,
   "metadata": {},
   "outputs": [
    {
     "name": "stdout",
     "output_type": "stream",
     "text": [
      "Found existing installation: qibo 0.2.1\n",
      "Uninstalling qibo-0.2.1:\n",
      "  Would remove:\n",
      "    /Users/gabba/opt/anaconda3/envs/Quilimanjaro/lib/python3.9/site-packages/qibo-0.2.1.dist-info/*\n",
      "    /Users/gabba/opt/anaconda3/envs/Quilimanjaro/lib/python3.9/site-packages/qibo/*\n",
      "Proceed (Y/n)? "
     ]
    }
   ],
   "source": [
    "#pip install qibo tensorflow\n",
    "\n",
    "!pip uninstall qibo tensorflow\n"
   ]
  },
  {
   "cell_type": "code",
   "execution_count": 1,
   "metadata": {},
   "outputs": [
    {
     "ename": "",
     "evalue": "",
     "output_type": "error",
     "traceback": [
      "\u001b[1;31mThe Kernel crashed while executing code in the the current cell or a previous cell. Please review the code in the cell(s) to identify a possible cause of the failure. Click <a href='https://aka.ms/vscodeJupyterKernelCrash'>here</a> for more info. View Jupyter <a href='command:jupyter.viewOutput'>log</a> for further details."
     ]
    }
   ],
   "source": [
    "import qibo\n",
    "\n",
    "# This can be beneficial if you're going to utilize TensorFlow's capabilities, such as automatic differentiation, in your quantum simulations.\n",
    "qibo.set_backend(\"tensorflow\")\n",
    "\n",
    "c = Circuit(2)\n",
    "c.add(gates.X(0))\n",
    "c.add(gates.X(1))\n",
    "c.add(gates.CU1(0, 1, 0.1234))\n",
    "c.compile()\n",
    "\n",
    "for i in range(10):\n",
    "    init_state = np.ones(4) / 2.0 + i\n",
    "    c(init_state)"
   ]
  },
  {
   "cell_type": "code",
   "execution_count": 1,
   "metadata": {},
   "outputs": [
    {
     "name": "stdout",
     "output_type": "stream",
     "text": [
      "Name: qibo\n",
      "Version: 0.2.1\n",
      "Summary: A framework for quantum computing with hardware acceleration.\n",
      "Home-page: https://qibo.science/\n",
      "Author: The Qibo team\n",
      "Author-email: \n",
      "License: Apache-2.0\n",
      "Location: /Users/gabba/opt/anaconda3/envs/Quilimanjaro/lib/python3.9/site-packages\n",
      "Requires: cma, joblib, matplotlib, psutil, scipy, sympy, tabulate\n",
      "Required-by: \n",
      "---\n",
      "Name: tensorflow\n",
      "Version: 2.14.0\n",
      "Summary: TensorFlow is an open source machine learning framework for everyone.\n",
      "Home-page: https://www.tensorflow.org/\n",
      "Author: Google Inc.\n",
      "Author-email: packages@tensorflow.org\n",
      "License: Apache 2.0\n",
      "Location: /Users/gabba/opt/anaconda3/envs/Quilimanjaro/lib/python3.9/site-packages\n",
      "Requires: absl-py, astunparse, flatbuffers, gast, google-pasta, grpcio, h5py, keras, libclang, ml-dtypes, numpy, opt-einsum, packaging, protobuf, setuptools, six, tensorboard, tensorflow-estimator, tensorflow-io-gcs-filesystem, termcolor, typing-extensions, wrapt\n",
      "Required-by: \n"
     ]
    }
   ],
   "source": [
    "!pip show qibo tensorflow\n"
   ]
  },
  {
   "cell_type": "code",
   "execution_count": null,
   "metadata": {},
   "outputs": [],
   "source": []
  }
 ],
 "metadata": {
  "kernelspec": {
   "display_name": "Quilimanjaro",
   "language": "python",
   "name": "python3"
  },
  "language_info": {
   "codemirror_mode": {
    "name": "ipython",
    "version": 3
   },
   "file_extension": ".py",
   "mimetype": "text/x-python",
   "name": "python",
   "nbconvert_exporter": "python",
   "pygments_lexer": "ipython3",
   "version": "3.9.18"
  }
 },
 "nbformat": 4,
 "nbformat_minor": 2
}
