{
 "cells": [
  {
   "cell_type": "markdown",
   "metadata": {},
   "source": [
    "# Basics II"
   ]
  },
  {
   "cell_type": "markdown",
   "metadata": {},
   "source": [
    "**Check the following line. Why there is no GPU?**"
   ]
  },
  {
   "cell_type": "code",
   "execution_count": 13,
   "metadata": {},
   "outputs": [
    {
     "data": {
      "text/plain": [
       "[PhysicalDevice(name='/physical_device:CPU:0', device_type='CPU')]"
      ]
     },
     "execution_count": 13,
     "metadata": {},
     "output_type": "execute_result"
    }
   ],
   "source": [
    "import tensorflow as tf\n",
    "tf.config.experimental.list_physical_devices()"
   ]
  },
  {
   "cell_type": "code",
   "execution_count": 14,
   "metadata": {},
   "outputs": [
    {
     "name": "stdout",
     "output_type": "stream",
     "text": [
      "Current device: /GPU:0\n"
     ]
    }
   ],
   "source": [
    "# Get the current device\n",
    "current_device = qibo.get_device()\n",
    "print(f\"Current device: {current_device}\")"
   ]
  },
  {
   "cell_type": "code",
   "execution_count": 2,
   "metadata": {},
   "outputs": [
    {
     "name": "stderr",
     "output_type": "stream",
     "text": [
      "[Qibo 0.2.1|INFO|2023-10-24 22:30:25]: Using tensorflow backend on /device:CPU:0\n"
     ]
    },
    {
     "name": "stdout",
     "output_type": "stream",
     "text": [
      "Current backend: tensorflow\n",
      "Current device: /device:CPU:0\n"
     ]
    }
   ],
   "source": [
    "import qibo\n",
    "\n",
    "# Get the current backend\n",
    "current_backend = qibo.get_backend()\n",
    "print(f\"Current backend: {current_backend}\")\n",
    "\n",
    "# Get the current device\n",
    "current_device = qibo.get_device()\n",
    "print(f\"Current device: {current_device}\")"
   ]
  },
  {
   "cell_type": "code",
   "execution_count": 4,
   "metadata": {},
   "outputs": [
    {
     "name": "stderr",
     "output_type": "stream",
     "text": [
      "[Qibo 0.2.1|INFO|2023-10-24 22:30:47]: Using tensorflow backend on /CPU:0\n",
      "[Qibo 0.2.1|INFO|2023-10-24 22:30:47]: Using tensorflow backend on /CPU:0\n"
     ]
    },
    {
     "name": "stdout",
     "output_type": "stream",
     "text": [
      "\n",
      "(0.00098+0j)|00000000000000000000> + (0.00098+0j)|00000000000000000001> + (0.00098+0j)|00000000000000000010> + (0.00098+0j)|00000000000000000011> + (0.00098+0j)|00000000000000000100> + (0.00098+0j)|00000000000000000101> + (0.00098+0j)|00000000000000000110> + (0.00098+0j)|00000000000000000111> + (0.00098+0j)|00000000000000001000> + (0.00098+0j)|00000000000000001001> + (0.00098+0j)|00000000000000001010> + (0.00098+0j)|00000000000000001011> + (0.00098+0j)|00000000000000001100> + (0.00098+0j)|00000000000000001101> + (0.00098+0j)|00000000000000001110> + (0.00098+0j)|00000000000000001111> + (0.00098+0j)|00000000000000010000> + (0.00098+0j)|00000000000000010001> + (0.00098+0j)|00000000000000010010> + (0.00098+0j)|00000000000000010011> + ...\n"
     ]
    }
   ],
   "source": [
    "from qibo.models import QFT\n",
    "\n",
    "qibo.set_backend(\"tensorflow\")\n",
    "qibo.set_device(\"/CPU:0\")\n",
    "\n",
    "c = QFT(20)\n",
    "final_state = c() # circuit will now be executed on CPU\n",
    "print()\n",
    "print(final_state)"
   ]
  },
  {
   "cell_type": "code",
   "execution_count": 10,
   "metadata": {},
   "outputs": [
    {
     "name": "stderr",
     "output_type": "stream",
     "text": [
      "[Qibo 0.2.1|INFO|2023-10-24 22:50:41]: Using tensorflow backend on /CPU:0\n"
     ]
    },
    {
     "name": "stdout",
     "output_type": "stream",
     "text": [
      "\n",
      "(1+0j)|0000000000000000000000000>\n"
     ]
    }
   ],
   "source": [
    "from qibo import Circuit, gates\n",
    "qibo.set_device(\"/CPU:0\")\n",
    "\n",
    "# Construct the circuit\n",
    "c = QFT(25)\n",
    "for i in range(25):\n",
    "    c.add(gates.H(i))\n",
    "\n",
    "final_state = c() # circuit will now be executed on CPU\n",
    "print()\n",
    "print(final_state)"
   ]
  },
  {
   "cell_type": "code",
   "execution_count": 16,
   "metadata": {},
   "outputs": [
    {
     "name": "stderr",
     "output_type": "stream",
     "text": [
      "[Qibo 0.2.1|INFO|2023-10-25 00:54:56]: Using tensorflow backend on /GPU:5\n"
     ]
    },
    {
     "name": "stdout",
     "output_type": "stream",
     "text": [
      "\n",
      "(1+0j)|0000000000000000000000000>\n"
     ]
    }
   ],
   "source": [
    "import numpy as np\n",
    "import qibo\n",
    "from qibo import Circuit, gates\n",
    "\n",
    "qibo.set_device(\"/GPU:5\")\n",
    "\n",
    "# Construct the circuit\n",
    "c = QFT(25)\n",
    "for i in range(25):\n",
    "    c.add(gates.H(i))\n",
    "\n",
    "final_state = c() # circuit will now be executed on GPU\n",
    "print()\n",
    "print(final_state)"
   ]
  },
  {
   "cell_type": "markdown",
   "metadata": {},
   "source": [
    "## Restart Kernet for setting the number of CPU threads\n",
    "\n",
    "Un \"thread\" (o hilo en español) es una secuencia de instrucciones que pueden ser ejecutadas en paralelo con otras secuencias en un programa. En un sistema operativo, los threads son una forma de permitir que múltiples operaciones ocurran simultáneamente dentro de un mismo proceso.\n",
    "\n",
    "**From here, everything has turned very incomprehensible!**"
   ]
  },
  {
   "cell_type": "code",
   "execution_count": 1,
   "metadata": {},
   "outputs": [
    {
     "name": "stderr",
     "output_type": "stream",
     "text": [
      "[Qibo 0.2.1|INFO|2023-10-25 17:23:02]: Using tensorflow backend on /device:CPU:0\n",
      "[Qibo 0.2.1|INFO|2023-10-25 17:23:02]: Using tensorflow backend on /CPU:0\n"
     ]
    },
    {
     "name": "stdout",
     "output_type": "stream",
     "text": [
      "(1+0j)|00>\n"
     ]
    }
   ],
   "source": [
    "import tensorflow as tf\n",
    "tf.config.threading.set_inter_op_parallelism_threads(1)\n",
    "tf.config.threading.set_intra_op_parallelism_threads(1)\n",
    "# Explore more on this!!\n",
    "\n",
    "import qibo\n",
    "from qibo.models import Circuit\n",
    "\n",
    "\n",
    "qibo.set_device(\"/CPU:0\")\n",
    "\n",
    "# accelerators = {\"/GPU:0\": 3, \"/GPU:1\": 1}\n",
    "\n",
    "c = Circuit(2)#, accelerators)\n",
    "final_state = c() # circuit will now be executed on CPU\n",
    "print(final_state)"
   ]
  },
  {
   "cell_type": "code",
   "execution_count": 4,
   "metadata": {},
   "outputs": [
    {
     "name": "stderr",
     "output_type": "stream",
     "text": [
      "[Qibo 0.2.1|WARNING|2023-10-24 20:37:35]: `set_threads` is not supported by the tensorflow backend. Please use tensorflow's thread setters: `tf.config.threading.set_inter_op_parallelism_threads` or `tf.config.threading.set_intra_op_parallelism_threads` to switch the number of threads.\n"
     ]
    }
   ],
   "source": [
    "# set the number of threads to 1\n",
    "qibo.set_threads(1)\n",
    "# retrieve the current number of threads\n",
    "current_threads = qibo.get_threads()"
   ]
  },
  {
   "cell_type": "code",
   "execution_count": 17,
   "metadata": {},
   "outputs": [
    {
     "name": "stderr",
     "output_type": "stream",
     "text": [
      "[Qibo 0.2.1|ERROR|2023-10-25 01:23:32]: tensorflow does not support distributed execution.\n"
     ]
    },
    {
     "ename": "NotImplementedError",
     "evalue": "tensorflow does not support distributed execution.",
     "output_type": "error",
     "traceback": [
      "\u001b[1;31m---------------------------------------------------------------------------\u001b[0m",
      "\u001b[1;31mNotImplementedError\u001b[0m                       Traceback (most recent call last)",
      "\u001b[1;32mc:\\Users\\Luciano Gabbanelli\\Desktop\\Documentos\\Quilimanjaro\\quibobis\\Basics_II.ipynb Cell 12\u001b[0m line \u001b[0;36m2\n\u001b[0;32m     <a href='vscode-notebook-cell:/c%3A/Users/Luciano%20Gabbanelli/Desktop/Documentos/Quilimanjaro/quibobis/Basics_II.ipynb#W5sZmlsZQ%3D%3D?line=16'>17</a>\u001b[0m c\u001b[39m.\u001b[39madd(gates\u001b[39m.\u001b[39mCU1(\u001b[39m0\u001b[39m, \u001b[39m1\u001b[39m, \u001b[39m0.1234\u001b[39m))\n\u001b[0;32m     <a href='vscode-notebook-cell:/c%3A/Users/Luciano%20Gabbanelli/Desktop/Documentos/Quilimanjaro/quibobis/Basics_II.ipynb#W5sZmlsZQ%3D%3D?line=19'>20</a>\u001b[0m init_state \u001b[39m=\u001b[39m np\u001b[39m.\u001b[39mones(\u001b[39m4\u001b[39m) \u001b[39m/\u001b[39m \u001b[39m2.0\u001b[39m\n\u001b[1;32m---> <a href='vscode-notebook-cell:/c%3A/Users/Luciano%20Gabbanelli/Desktop/Documentos/Quilimanjaro/quibobis/Basics_II.ipynb#W5sZmlsZQ%3D%3D?line=20'>21</a>\u001b[0m c(init_state)\n",
      "File \u001b[1;32mc:\\Users\\Luciano Gabbanelli\\anaconda3\\envs\\Quili\\Lib\\site-packages\\qibo\\models\\circuit.py:1013\u001b[0m, in \u001b[0;36mCircuit.__call__\u001b[1;34m(self, initial_state, nshots)\u001b[0m\n\u001b[0;32m   1011\u001b[0m \u001b[39mdef\u001b[39;00m \u001b[39m__call__\u001b[39m(\u001b[39mself\u001b[39m, initial_state\u001b[39m=\u001b[39m\u001b[39mNone\u001b[39;00m, nshots\u001b[39m=\u001b[39m\u001b[39mNone\u001b[39;00m):\n\u001b[0;32m   1012\u001b[0m \u001b[39m    \u001b[39m\u001b[39m\"\"\"Equivalent to ``circuit.execute``.\"\"\"\u001b[39;00m\n\u001b[1;32m-> 1013\u001b[0m     \u001b[39mreturn\u001b[39;00m \u001b[39mself\u001b[39;49m\u001b[39m.\u001b[39;49mexecute(initial_state\u001b[39m=\u001b[39;49minitial_state, nshots\u001b[39m=\u001b[39;49mnshots)\n",
      "File \u001b[1;32mc:\\Users\\Luciano Gabbanelli\\anaconda3\\envs\\Quili\\Lib\\site-packages\\qibo\\models\\circuit.py:1005\u001b[0m, in \u001b[0;36mCircuit.execute\u001b[1;34m(self, initial_state, nshots)\u001b[0m\n\u001b[0;32m   1002\u001b[0m \u001b[39mfrom\u001b[39;00m \u001b[39mqibo\u001b[39;00m\u001b[39m.\u001b[39;00m\u001b[39mbackends\u001b[39;00m \u001b[39mimport\u001b[39;00m GlobalBackend\n\u001b[0;32m   1004\u001b[0m \u001b[39mif\u001b[39;00m \u001b[39mself\u001b[39m\u001b[39m.\u001b[39maccelerators:  \u001b[39m# pragma: no cover\u001b[39;00m\n\u001b[1;32m-> 1005\u001b[0m     \u001b[39mreturn\u001b[39;00m GlobalBackend()\u001b[39m.\u001b[39;49mexecute_distributed_circuit(\n\u001b[0;32m   1006\u001b[0m         \u001b[39mself\u001b[39;49m, initial_state, nshots\n\u001b[0;32m   1007\u001b[0m     )\n\u001b[0;32m   1008\u001b[0m \u001b[39melse\u001b[39;00m:\n\u001b[0;32m   1009\u001b[0m     \u001b[39mreturn\u001b[39;00m GlobalBackend()\u001b[39m.\u001b[39mexecute_circuit(\u001b[39mself\u001b[39m, initial_state, nshots)\n",
      "File \u001b[1;32mc:\\Users\\Luciano Gabbanelli\\anaconda3\\envs\\Quili\\Lib\\site-packages\\qibo\\backends\\numpy.py:510\u001b[0m, in \u001b[0;36mNumpyBackend.execute_distributed_circuit\u001b[1;34m(self, circuit, initial_state, nshots, return_array)\u001b[0m\n\u001b[0;32m    507\u001b[0m \u001b[39mdef\u001b[39;00m \u001b[39mexecute_distributed_circuit\u001b[39m(\n\u001b[0;32m    508\u001b[0m     \u001b[39mself\u001b[39m, circuit, initial_state\u001b[39m=\u001b[39m\u001b[39mNone\u001b[39;00m, nshots\u001b[39m=\u001b[39m\u001b[39mNone\u001b[39;00m, return_array\u001b[39m=\u001b[39m\u001b[39mFalse\u001b[39;00m\n\u001b[0;32m    509\u001b[0m ):\n\u001b[1;32m--> 510\u001b[0m     raise_error(\n\u001b[0;32m    511\u001b[0m         \u001b[39mNotImplementedError\u001b[39;49;00m, \u001b[39mf\u001b[39;49m\u001b[39m\"\u001b[39;49m\u001b[39m{\u001b[39;49;00m\u001b[39mself\u001b[39;49m\u001b[39m}\u001b[39;49;00m\u001b[39m does not support distributed execution.\u001b[39;49m\u001b[39m\"\u001b[39;49m\n\u001b[0;32m    512\u001b[0m     )\n",
      "File \u001b[1;32mc:\\Users\\Luciano Gabbanelli\\anaconda3\\envs\\Quili\\Lib\\site-packages\\qibo\\config.py:48\u001b[0m, in \u001b[0;36mraise_error\u001b[1;34m(exception, message, args)\u001b[0m\n\u001b[0;32m     46\u001b[0m     \u001b[39mraise\u001b[39;00m exception(message, args)\n\u001b[0;32m     47\u001b[0m \u001b[39melse\u001b[39;00m:\n\u001b[1;32m---> 48\u001b[0m     \u001b[39mraise\u001b[39;00m exception(message)\n",
      "\u001b[1;31mNotImplementedError\u001b[0m: tensorflow does not support distributed execution."
     ]
    }
   ],
   "source": [
    "# import qibo\n",
    "# import numpy as np\n",
    "\n",
    "# qibo.set_backend(\"numpy\")\n",
    "\n",
    "# from qibo import Circuit, gates\n",
    "\n",
    "# qibo.set_device(\"/CPU:0\")\n",
    "\n",
    "accelerators = {\"/GPU:0\": 3, \"/GPU:1\": 1}\n",
    "\n",
    "c = Circuit(5, accelerators)\n",
    "\n",
    "\n",
    "c.add(gates.X(0))\n",
    "c.add(gates.X(1))\n",
    "c.add(gates.CU1(0, 1, 0.1234))\n",
    "\n",
    "\n",
    "init_state = np.ones(4) / 2.0\n",
    "c(init_state)"
   ]
  },
  {
   "cell_type": "markdown",
   "metadata": {},
   "source": [
    "**Up to here, everything has been very confusing!**"
   ]
  },
  {
   "cell_type": "markdown",
   "metadata": {},
   "source": [
    "## Callbacks for entanglement entropy\n",
    "\n",
    "An example use case of this is the calculation of entanglement entropy as the state propagates through a circuit. This can be implemented easily using `qibo.callbacks.EntanglementEntropy` and the `qibo.gates.CallbackGate` gate."
   ]
  },
  {
   "cell_type": "code",
   "execution_count": 31,
   "metadata": {},
   "outputs": [
    {
     "name": "stdout",
     "output_type": "stream",
     "text": [
      "Given this circuit:\n",
      "q0: ─EE─H─EE─o─EE─\n",
      "q1: ─EE───EE─X─EE─\n",
      "\n",
      "Entropy calculation is performed after c() is executed:\n",
      " ['-0.000', '0.000', '1.000']\n",
      "This is the entropy of the Bell state! :D\n",
      "\n",
      "Final state: (0.70711+0j)|00> + (0.70711+0j)|11>\n",
      "\n",
      "Entropy calculation when cicuit is executed for second time:\n",
      " ['-0.000', '0.000', '1.000', '-0.000', '0.000', '1.000']\n"
     ]
    }
   ],
   "source": [
    "from qibo import models, gates, callbacks\n",
    "\n",
    "# create entropy callback where qubit 0 is the first subsystem\n",
    "entropy = callbacks.EntanglementEntropy([0])\n",
    "\n",
    "# initialize circuit with 2 qubits and add gates\n",
    "c = models.Circuit(2) # state is |00> (entropy = 0)\n",
    "c.add(gates.CallbackGate(entropy)) # performs entropy calculation in the initial state\n",
    "c.add(gates.H(0)) # state is |+0> (entropy = 0)\n",
    "c.add(gates.CallbackGate(entropy)) # performs entropy calculation after H\n",
    "c.add(gates.CNOT(0, 1)) # state is |00> + |11> (entropy = 1))\n",
    "c.add(gates.CallbackGate(entropy)) # performs entropy calculation after CNOT\n",
    "\n",
    "# Execute the circuit using the callback\n",
    "final_state = c()\n",
    "\n",
    "# Draw the circuit:\n",
    "print('Given this circuit:')\n",
    "print(c.draw())\n",
    "\n",
    "# tf to float:\n",
    "formatted_output = [format(tensor.numpy(), '.3f') for tensor in entropy[:]]\n",
    "print('\\nEntropy calculation is performed after c() is executed:\\n', formatted_output)\n",
    "print('This is the entropy of the Bell state! :D\\n')\n",
    "\n",
    "# Prints the final state in Dirac form:\n",
    "print('Final state:', final_state)\n",
    "\n",
    "# Execute the circuit a second time\n",
    "final_state = c()\n",
    "formatted_output_2 = [format(tensor.numpy(), '.3f') for tensor in entropy[:]]\n",
    "print('\\nEntropy calculation when cicuit is executed for second time:\\n', formatted_output_2)"
   ]
  },
  {
   "cell_type": "markdown",
   "metadata": {},
   "source": [
    "The final state is the following Bell state:\n",
    "\n",
    "$$|\\Phi^+\\rangle=\\frac{|00\\rangle+|11\\rangle}{\\sqrt{2}}$$"
   ]
  },
  {
   "cell_type": "code",
   "execution_count": 33,
   "metadata": {},
   "outputs": [
    {
     "data": {
      "text/plain": [
       "0.7071067811865475"
      ]
     },
     "execution_count": 33,
     "metadata": {},
     "output_type": "execute_result"
    }
   ],
   "source": [
    "import numpy as np\n",
    "1/np.sqrt(2)"
   ]
  },
  {
   "cell_type": "markdown",
   "metadata": {},
   "source": [
    "## Parametrized gates\n",
    "\n",
    "Qibo gates such as rotations accept values for their free parameter. Once such gates are added in a circuit their parameters can be updated using the `qibo.models.circuit.Circuit.set_parameters()` method."
   ]
  },
  {
   "cell_type": "code",
   "execution_count": 36,
   "metadata": {},
   "outputs": [
    {
     "name": "stdout",
     "output_type": "stream",
     "text": [
      "Given this circuit:\n",
      "q0: ─RX───f───\n",
      "q1: ─RY─o─|───\n",
      "q2: ────Z─f─H─\n",
      "\n",
      "Final state: (0.70711+0j)|000> + (0.70711+0j)|001>\n",
      "\n",
      "Final state: (0.65746+0j)|000> + (0.71755+0j)|001> + (0.15255+0j)|010> + (0.1665+0j)|011> + -0.02983j|100> + -0.02983j|101> + -0.00692j|110> + -0.00692j|111>\n"
     ]
    }
   ],
   "source": [
    "from qibo import Circuit, gates\n",
    "# create a circuit with all parameters set to 0.\n",
    "c = Circuit(3)\n",
    "\n",
    "# All rotation angles are parametric and can be changed later\n",
    "c.add(gates.RX(0, theta=0))\n",
    "c.add(gates.RY(1, theta=0))\n",
    "c.add(gates.CZ(1, 2))\n",
    "c.add(gates.fSim(0, 2, theta=0, phi=0))\n",
    "c.add(gates.H(2))\n",
    "\n",
    "# Draw the circuit:\n",
    "print('Given this circuit:')\n",
    "print(c.draw())\n",
    "\n",
    "# Prints the final state in Dirac form:\n",
    "final_state = c()\n",
    "print('\\nFinal state:', final_state)\n",
    "\n",
    "# set new values to the circuit's parameters\n",
    "params = [0.123, 0.456, (0.789, 0.321)]\n",
    "c.set_parameters(params)\n",
    "\n",
    "# Prints the final state after changing parameters:\n",
    "final_state = c()\n",
    "print('\\nFinal state:', final_state)\n"
   ]
  },
  {
   "cell_type": "markdown",
   "metadata": {},
   "source": [
    "Equivalently, set parameters `circuit.set_parameters()` with a dictionary or a flat list."
   ]
  },
  {
   "cell_type": "code",
   "execution_count": null,
   "metadata": {},
   "outputs": [],
   "source": [
    "c = Circuit(3)\n",
    "g0 = gates.RX(0, theta=0)\n",
    "g1 = gates.RY(1, theta=0)\n",
    "g2 = gates.fSim(0, 2, theta=0, phi=0)\n",
    "c.add([g0, g1, gates.CZ(1, 2), g2, gates.H(2)])\n",
    "\n",
    "# set new values to the circuit's parameters using a dictionary\n",
    "params = {g0: 0.123, g1: 0.456, g2: (0.789, 0.321)}\n",
    "c.set_parameters(params)\n",
    "# equivalently the parameter's can be update with a list as\n",
    "params = [0.123, 0.456, (0.789, 0.321)]\n",
    "c.set_parameters(params)\n",
    "# or with a flat list as\n",
    "params = [0.123, 0.456, 0.789, 0.321]\n",
    "c.set_parameters(params)"
   ]
  },
  {
   "cell_type": "markdown",
   "metadata": {},
   "source": [
    "The following gates support parameter setting:\n",
    "\n",
    "* `RX`, `RY`, `RZ`, `U1`, `CU1`: Accept a single `theta` parameter.\n",
    "\n",
    "* `qibo.gates.fSim`: Accepts a tuple of two parameters (`theta`, `phi`).\n",
    "\n",
    "* `qibo.gates.GeneralizedfSim`: Accepts a tuple of two parameters `(unitary, phi)`. Here `unitary` should be a unitary matrix given as an array or `tf.Tensor` of shape `(2, 2)`.\n",
    "\n",
    "* `qibo.gates.Unitary`: Accepts a single `unitary` parameter. This should be an array or `tf.Tensor` of shape `(2, 2)`.\n",
    "\n",
    "**Note** that a `np.ndarray` or a `tf.Tensor` may also be used in the place of a flat list. Using `qibo.models.circuit.Circuit.set_parameters()` is more efficient than recreating a new circuit with new parameter values.\n",
    "\n",
    "**Get parameters:** The inverse method `qibo.models.circuit.Circuit.get_parameters()` is also available and returns a list, dictionary or flat list."
   ]
  },
  {
   "cell_type": "markdown",
   "metadata": {},
   "source": [
    "Hide a parametrized gate from the action of `qibo.models.circuit.Circuit.get_parameters()` and `qibo.models.circuit.Circuit.set_parameters()`` by setting the `trainable=False` during gate creation."
   ]
  },
  {
   "cell_type": "code",
   "execution_count": 42,
   "metadata": {},
   "outputs": [
    {
     "name": "stdout",
     "output_type": "stream",
     "text": [
      "[(0.123,), (0.456,), (0.789, 0.567)]\n"
     ]
    }
   ],
   "source": [
    "c = Circuit(3)\n",
    "c.add(gates.RX(0, theta=0.123))\n",
    "c.add(gates.RY(1, theta=0.456, trainable=True))\n",
    "c.add(gates.fSim(0, 2, theta=0.789, phi=0.567))\n",
    "\n",
    "print(c.get_parameters())\n",
    "# prints [(0.123,), (0.789, 0.567)] ignoring the parameters of the RY gate"
   ]
  },
  {
   "cell_type": "markdown",
   "metadata": {},
   "source": [
    "This is useful when the user wants to freeze the parameters of specific gates during optimization."
   ]
  },
  {
   "cell_type": "markdown",
   "metadata": {},
   "source": [
    "## Collapse state during measurements\n",
    "\n",
    "Collapse the state during measurements and re-use measured qubits in the circuit.\n",
    "\n",
    "During instantiation of the `qibo.gates.M` gate."
   ]
  },
  {
   "cell_type": "code",
   "execution_count": 24,
   "metadata": {},
   "outputs": [
    {
     "name": "stdout",
     "output_type": "stream",
     "text": [
      "[<tf.Tensor: shape=(2,), dtype=complex128, numpy=array([0.70710678+0.j, 0.70710678+0.j])>, <tf.Tensor: shape=(2,), dtype=complex128, numpy=array([0.70710678+0.j, 0.70710678+0.j])>, <tf.Tensor: shape=(2,), dtype=complex128, numpy=array([0.70710678+0.j, 0.70710678+0.j])>, <tf.Tensor: shape=(2,), dtype=complex128, numpy=array([ 0.70710678+0.j, -0.70710678+0.j])>, <tf.Tensor: shape=(2,), dtype=complex128, numpy=array([ 0.70710678+0.j, -0.70710678+0.j])>]\n",
      "\n",
      "q0: ─H─M─H─\n"
     ]
    }
   ],
   "source": [
    "from qibo import Circuit, gates\n",
    "\n",
    "c = Circuit(1)\n",
    "c.add(gates.H(0))\n",
    "output = c.add(gates.M(0, collapse=True))\n",
    "c.add(gates.H(0))\n",
    "\n",
    "result = c(nshots=5)\n",
    "print(result)\n",
    "print()\n",
    "print(c.draw())\n",
    "# prints [0.7071, 0.7071] if 0 is measured\n",
    "# or [0.7071, -0.7071] if 1 is measured"
   ]
  },
  {
   "cell_type": "code",
   "execution_count": 25,
   "metadata": {},
   "outputs": [
    {
     "name": "stdout",
     "output_type": "stream",
     "text": [
      "Counter({'0': 3, '1': 2})\n",
      "tf.Tensor([0 0 0 1 1], shape=(5,), dtype=int32)\n",
      "[[0]\n",
      " [0]\n",
      " [0]\n",
      " [1]\n",
      " [1]]\n"
     ]
    }
   ],
   "source": [
    "print(output.frequencies(binary=True))\n",
    "print(output.samples(binary=False))\n",
    "print(output.samples(binary=True))"
   ]
  },
  {
   "cell_type": "markdown",
   "metadata": {},
   "source": [
    "Using normal measurements and collapse measurements in the same circuit:"
   ]
  },
  {
   "cell_type": "code",
   "execution_count": 10,
   "metadata": {},
   "outputs": [
    {
     "name": "stdout",
     "output_type": "stream",
     "text": [
      "q0: ─H─M─H─M─\n",
      "q1: ─H─────M─\n",
      "\n",
      "(0.5+0j)|00> + (0.5+0j)|01> + (0.5+0j)|10> + (0.5+0j)|11>\n"
     ]
    }
   ],
   "source": [
    "from qibo import Circuit, gates\n",
    "\n",
    "c = Circuit(2)\n",
    "c.add(gates.H(0))\n",
    "c.add(gates.H(1))\n",
    "output = c.add(gates.M(0, collapse=True))\n",
    "c.add(gates.H(0))\n",
    "c.add(gates.M(0, 1))\n",
    "result = c(nshots=5)\n",
    "\n",
    "print(c.draw())\n",
    "print()\n",
    "print(result)"
   ]
  },
  {
   "cell_type": "markdown",
   "metadata": {},
   "source": [
    "**Circuit:**\n",
    "\n",
    "$|0\\rangle$ ----H $\\tiny|+\\rangle$ ----M $\\tiny|0\\rangle\\ |\\ |1\\rangle$ ----H $\\tiny|+\\rangle\\ |\\ |-\\rangle$ ----M $\\tiny|0\\rangle\\ |\\ |1\\rangle$\n",
    "\n",
    "$|0\\rangle$ ----H $\\tiny|+\\rangle$ -----------------------------M $\\tiny|0\\rangle\\ |\\ |1\\rangle$"
   ]
  },
  {
   "cell_type": "code",
   "execution_count": 11,
   "metadata": {},
   "outputs": [
    {
     "name": "stdout",
     "output_type": "stream",
     "text": [
      "[[1]\n",
      " [1]\n",
      " [1]\n",
      " [0]\n",
      " [0]]\n",
      "tf.Tensor(\n",
      "[[0 1]\n",
      " [1 0]\n",
      " [1 0]\n",
      " [1 1]\n",
      " [0 1]], shape=(5, 2), dtype=int32)\n"
     ]
    }
   ],
   "source": [
    "print(output.samples(binary=True))\n",
    "print(result.samples(binary=True))"
   ]
  },
  {
   "cell_type": "code",
   "execution_count": 12,
   "metadata": {},
   "outputs": [
    {
     "name": "stdout",
     "output_type": "stream",
     "text": [
      "Counter({1: 2, 10: 2, 11: 1})\n",
      "Counter({1: 2, 10: 2, 11: 1})\n"
     ]
    }
   ],
   "source": [
    "print(result.frequencies(binary=True))\n",
    "print(result.frequencies(binary=True))"
   ]
  },
  {
   "cell_type": "markdown",
   "metadata": {},
   "source": [
    "**The output is wired... The keys are not strings...**\n",
    "\n",
    "Then 01 is shown as 1."
   ]
  },
  {
   "cell_type": "code",
   "execution_count": 13,
   "metadata": {},
   "outputs": [
    {
     "name": "stdout",
     "output_type": "stream",
     "text": [
      "Counter({'1': 3, '0': 2})\n",
      "Counter({1: 3, 0: 2})\n"
     ]
    }
   ],
   "source": [
    "print(output.frequencies(binary=True, registers=True))\n",
    "print(output.frequencies(binary=False, registers=True))"
   ]
  },
  {
   "cell_type": "markdown",
   "metadata": {},
   "source": [
    "### Conditioning gates on measurement outcomes\n",
    "\n",
    "The output of `collapse=True` measurements can be used as a parameter in any parametrized gate."
   ]
  },
  {
   "cell_type": "code",
   "execution_count": 58,
   "metadata": {},
   "outputs": [
    {
     "name": "stdout",
     "output_type": "stream",
     "text": [
      "If the mesurement gives |0>, everything is in the fundamental state.\n",
      "\n",
      "If the mesurement gives |1>, apply this rotation to q2:\n",
      "   cos: 0.9238795325112867 \n",
      "   sin: -i* 0.3826834323650898\n",
      "\n",
      "q0: ─H──M─\n",
      "q1: ─RX───\n",
      "\n",
      "[<tf.Tensor: shape=(4,), dtype=complex128, numpy=array([1.+0.j, 0.+0.j, 0.+0.j, 0.+0.j])>]\n"
     ]
    }
   ],
   "source": [
    "import numpy as np\n",
    "from qibo import Circuit, gates\n",
    "\n",
    "c = Circuit(2)\n",
    "c.add(gates.H(0))\n",
    "output = c.add(gates.M(0, collapse=True))\n",
    "c.add(gates.RX(1, theta=np.pi * output.symbols[0] / 4))\n",
    "result = c()\n",
    "\n",
    "print('If the mesurement gives |0>, everything is in the fundamental state.')\n",
    "print()\n",
    "print('If the mesurement gives |1>, apply this rotation to q2:\\n   cos:', np.cos(np.pi / 8), '\\n   sin: -i*', np.sin(np.pi / 8))\n",
    "print()\n",
    "print(c.draw())\n",
    "print()\n",
    "print(result)"
   ]
  },
  {
   "cell_type": "markdown",
   "metadata": {},
   "source": [
    "The circuit drew is wired, as the mesurment defines the Rx gate. I imagine something like:\n",
    "\n",
    "**Circuit:**\n",
    "\n",
    "$|0\\rangle$ ----H $\\tiny|+\\rangle$ ---- M $\\tiny\\text{out = }|0\\rangle\\ |\\ |1\\rangle$ --------\n",
    "\n",
    "$|0\\rangle$ ---------------- Rx $\\footnotesize(\\theta=\\pi*\\text{out})$ $\\tiny|0\\rangle\\ |\\ |1\\rangle$"
   ]
  },
  {
   "cell_type": "markdown",
   "metadata": {},
   "source": [
    "### More than one qubits used in a collapsed measurement gate\n",
    "\n",
    "Execute the code and note that if:\n",
    "\n",
    "* the 2 measurements gives |0> no rotation is obtained, Rx = Ry = I.\n",
    "\n",
    "    All qubits in the fundamental state; i.e. (10000000)\n",
    "\n",
    "* M(0) = |1> and M(1) = |0>"
   ]
  },
  {
   "cell_type": "code",
   "execution_count": 93,
   "metadata": {},
   "outputs": [
    {
     "name": "stdout",
     "output_type": "stream",
     "text": [
      "q0: ─H─M────\n",
      "q1: ───M─RX─\n",
      "q2: ─────RY─\n",
      "\n",
      "[<tf.Tensor: shape=(8,), dtype=complex128, numpy=\n",
      "array([0.        +0.j        , 0.        +0.j        ,\n",
      "       0.        +0.j        , 0.        +0.j        ,\n",
      "       0.87866165+0.j        , 0.28549448+0.j        ,\n",
      "       0.        -0.36395357j, 0.        -0.11825568j])>]\n",
      "\n",
      "If the 2 mesurements gives |0>, everything is in the fundamental state.\n",
      "\n",
      "If M0 = |0> and M1 gives |1>, apply this rotation to q2:\n",
      "   cos: 0.9510565162951535\n",
      "   sin: 0.3826834323650898\n",
      "\n"
     ]
    }
   ],
   "source": [
    "c = Circuit(3)\n",
    "c.add(gates.H(0))\n",
    "output = c.add(gates.M(0, 1, collapse=True))\n",
    "c.add(gates.RX(1, theta=np.pi * output.symbols[0] / 4))\n",
    "c.add(gates.RY(2, theta=np.pi * (output.symbols[0] + output.symbols[1]) / 5))\n",
    "result = c()\n",
    "\n",
    "print(c.draw())\n",
    "print()\n",
    "print(result)\n",
    "print()\n",
    "print('If the 2 mesurements gives |0>, everything is in the fundamental state.')\n",
    "print()\n",
    "print(f'''If M0 = |0> and M1 gives |1>, apply this rotation to q2:\\n   cos: {np.cos(np.pi / 10)}\\n   sin: {np.sin(np.pi / 8)}''')\n",
    "print()\n"
   ]
  },
  {
   "cell_type": "code",
   "execution_count": 39,
   "metadata": {},
   "outputs": [
    {
     "name": "stdout",
     "output_type": "stream",
     "text": [
      "m35 + m36\n"
     ]
    }
   ],
   "source": [
    "print(output.symbols[0] + output.symbols[1])"
   ]
  },
  {
   "cell_type": "markdown",
   "metadata": {},
   "source": [
    "## Invert a circuit\n",
    "\n",
    "Taking the **dagger** of all gates in reverse order.\n",
    "\n",
    "reminiscent of a \"quantum echo\": error mitigation technique (errors or noise introduced during the initial operations can be \"undone\" or mitigated)\n",
    "\n",
    "$$(Rx,Cz)CU2(Rx,Cz)^T$$\n",
    "\n",
    "single-qubit rotations followed by two-qubit gates\n"
   ]
  },
  {
   "cell_type": "code",
   "execution_count": 105,
   "metadata": {},
   "outputs": [
    {
     "name": "stdout",
     "output_type": "stream",
     "text": [
      "\n",
      "q0: ─RX─o─────o────────────o─RX─\n",
      "q1: ─RX─Z─────U2───────────Z─RX─\n",
      "q2: ─RX───o──────o───────o───RX─\n",
      "q3: ─RX───Z──────U2──────Z───RX─\n",
      "q4: ─RX─────o───────o──o─────RX─\n",
      "q5: ────────Z───────U2─Z────────\n"
     ]
    }
   ],
   "source": [
    "from qibo import Circuit, gates\n",
    "\n",
    "# Create a subroutine\n",
    "subroutine = Circuit(6)\n",
    "subroutine.add([gates.RX(i, theta=0.1) for i in range(5)])\n",
    "subroutine.add([gates.CZ(i, i + 1) for i in range(0, 5, 2)])\n",
    "print()\n",
    "\n",
    "# Create the middle part of the circuit\n",
    "middle = Circuit(6)\n",
    "middle.add([gates.CU2(i, i + 1, phi=0.1, lam=0.2) for i in range(0, 5, 2)])\n",
    "\n",
    "# Create the total circuit as subroutine + middle + subroutine^{-1}\n",
    "circuit = subroutine + middle + subroutine.invert()\n",
    "\n",
    "print(circuit.draw())"
   ]
  },
  {
   "cell_type": "markdown",
   "metadata": {},
   "source": [
    "## Embedded circuits\n",
    "\n",
    "(Rx-CNOT)x2-even * QFT-odd  * (QFT)T-on6 \n",
    "\n",
    "[embedded] * [Shor's factoring algorithm] * [transform back to computational basis]"
   ]
  },
  {
   "cell_type": "code",
   "execution_count": 111,
   "metadata": {},
   "outputs": [
    {
     "name": "stdout",
     "output_type": "stream",
     "text": [
      "q0: ─RX─o───\n",
      "q1: ─RX─X───\n",
      "q2: ─RX───o─\n",
      "q3: ─RX───X─\n",
      "\n",
      "q0:     ─RX─o─────────────────────────────────────x─────────────────────────── ...\n",
      "q1:     ────|───H─U1─U1─U1────────────────x─────x─|─────────────────────────── ...\n",
      "q2:     ─RX─X─────|──|──|─────────────────|───x─|─|────────────────U1─U1─U1─H─ ...\n",
      "q3:     ──────────o──|──|──H─U1─U1────────|─x─x─|─|────────U1─U1─H─|──|──o──── ...\n",
      "q4:     ─RX───o──────|──|────|──|─────────|─|───x─|───U1─H─|──o────|──o─────── ...\n",
      "q5:     ──────|──────o──|────o──|──H─U1───|─x─────x─H─o────o───────o────────── ...\n",
      "q6:     ─RX───X─────────|───────|────|────|─────────────────────────────────── ...\n",
      "q7:     ────────────────o───────o────o──H─x─────────────────────────────────── ...\n",
      "\n",
      "q0: ... ──────────────U1─U1─U1─U1─U1─H─\n",
      "q1: ... U1─U1─U1─U1─H─|──|──|──|──o────\n",
      "q2: ... |──|──|──o────|──|──|──o───────\n",
      "q3: ... |──|──o───────|──|──o──────────\n",
      "q4: ... |──o──────────|──o─────────────\n",
      "q5: ... o─────────────o────────────────\n",
      "q6: ... ───────────────────────────────\n",
      "q7: ... ───────────────────────────────\n"
     ]
    }
   ],
   "source": [
    "from qibo import models, gates\n",
    "\n",
    "# Create a small circuit of 4 qubits\n",
    "smallc = models.Circuit(4)\n",
    "smallc.add((gates.RX(i, theta=0.1) for i in range(4)))\n",
    "smallc.add((gates.CNOT(0, 1), gates.CNOT(2, 3)))\n",
    "print(smallc.draw())\n",
    "print()\n",
    "\n",
    "# Create a large circuit on 8 qubits\n",
    "largec = models.Circuit(8)\n",
    "# Add the small circuit on even qubits\n",
    "largec.add(smallc.on_qubits(*range(0, 8, 2)))\n",
    "# Add a QFT on odd qubits\n",
    "largec.add(models.QFT(4).on_qubits(*range(1, 8, 2)))\n",
    "# Add an inverse QFT on first 6 qubits\n",
    "largec.add(models.QFT(6).invert().on_qubits(*range(6)))\n",
    "print(largec.draw())"
   ]
  },
  {
   "cell_type": "markdown",
   "metadata": {},
   "source": [
    "#  Variational Quantum Eigensolver (VQE) \n",
    "\n",
    "Find ground state\n",
    "\n",
    "VQE consist on, \n",
    "\n",
    "1) Hamiltonian (expressed as a sum of Pauli terms)\n",
    "2) Variational form parameterized as a circuit.\n",
    "\n",
    "Then, $\\langle\\Psi|H|\\Psi\\rangle=E_{ansatz}$"
   ]
  },
  {
   "cell_type": "code",
   "execution_count": 2,
   "metadata": {},
   "outputs": [],
   "source": [
    "import numpy as np\n",
    "from qibo import models, gates, hamiltonians\n",
    "\n",
    "nqubits = 6\n",
    "nlayers  = 4\n",
    "\n",
    "# Create variational circuit\n",
    "circuit = models.Circuit(nqubits)\n",
    "for l in range(nlayers):\n",
    "    circuit.add((gates.RY(q, theta=0) for q in range(nqubits)))\n",
    "    circuit.add((gates.CZ(q, q+1) for q in range(0, nqubits-1, 2)))\n",
    "    circuit.add((gates.RY(q, theta=0) for q in range(nqubits)))\n",
    "    circuit.add((gates.CZ(q, q+1) for q in range(1, nqubits-2, 2)))\n",
    "    circuit.add(gates.CZ(0, nqubits-1))\n",
    "circuit.add((gates.RY(q, theta=0) for q in range(nqubits)))\n",
    "\n",
    "# Create XXZ Hamiltonian\n",
    "hamiltonian = hamiltonians.XXZ(nqubits=nqubits)\n",
    "# Create VQE model\n",
    "vqe = models.VQE(circuit, hamiltonian)\n",
    "\n",
    "# Optimize starting from a random guess for the variational parameters\n",
    "initial_parameters = np.random.uniform(0, 2*np.pi,\n",
    "                                        2*nqubits*nlayers + nqubits)\n",
    "best, params, extra = vqe.minimize(initial_parameters, method='BFGS', compile=False)"
   ]
  },
  {
   "cell_type": "markdown",
   "metadata": {},
   "source": [
    "### Circuit exploration"
   ]
  },
  {
   "cell_type": "code",
   "execution_count": 17,
   "metadata": {},
   "outputs": [
    {
     "name": "stdout",
     "output_type": "stream",
     "text": [
      "q0:     ─RY─o─────RY─────o─RY─o─────RY─────o─RY─o─────RY─────o─RY─o─────RY──── ...\n",
      "q1:     ─RY─Z─────RY─o───|─RY─Z─────RY─o───|─RY─Z─────RY─o───|─RY─Z─────RY─o── ...\n",
      "q2:     ─RY───o───RY─Z───|─RY───o───RY─Z───|─RY───o───RY─Z───|─RY───o───RY─Z── ...\n",
      "q3:     ─RY───Z───RY───o─|─RY───Z───RY───o─|─RY───Z───RY───o─|─RY───Z───RY───o ...\n",
      "q4:     ─RY─────o─RY───Z─|─RY─────o─RY───Z─|─RY─────o─RY───Z─|─RY─────o─RY───Z ...\n",
      "q5:     ─RY─────Z─RY─────Z─RY─────Z─RY─────Z─RY─────Z─RY─────Z─RY─────Z─RY──── ...\n",
      "\n",
      "q0: ... ─o─RY─\n",
      "q1: ... ─|─RY─\n",
      "q2: ... ─|─RY─\n",
      "q3: ... ─|─RY─\n",
      "q4: ... ─|─RY─\n",
      "q5: ... ─Z─RY─\n",
      "\n",
      "Circuit characterization:\n",
      "Circuit depth = 17\n",
      "Total number of gates = 78\n",
      "Number of qubits = 6\n",
      "Most common gates:\n",
      "ry: 54\n",
      "cz: 24\n"
     ]
    }
   ],
   "source": [
    "print(circuit.draw())\n",
    "print('\\nCircuit characterization:')\n",
    "print(circuit.summary())"
   ]
  },
  {
   "cell_type": "markdown",
   "metadata": {},
   "source": [
    "### Explore initial/final parameters\n",
    "\n",
    "We have 2 * `nqubits` * `nlayers` + `nqubits` = 54 rotations (parameters)"
   ]
  },
  {
   "cell_type": "code",
   "execution_count": 45,
   "metadata": {},
   "outputs": [
    {
     "name": "stdout",
     "output_type": "stream",
     "text": [
      "Plot the 54 initial parameters.\n"
     ]
    },
    {
     "data": {
      "image/png": "[encoded data removed]",
      "text/plain": [
       "<Figure size 400x200 with 1 Axes>"
      ]
     },
     "metadata": {},
     "output_type": "display_data"
    }
   ],
   "source": [
    "import matplotlib.pyplot as plt\n",
    "\n",
    "# Visualization\n",
    "print(f'Plot the {len(initial_parameters)} initial parameters.')\n",
    "plt.figure(figsize=(4,2))\n",
    "plt.plot(initial_parameters, marker='o', linestyle='-', markersize=3, color='blue', label='Initial Parameters', lw=0.5)\n",
    "plt.plot(params, marker='x', linestyle='-', markersize=4, color='red', label='Optimal Parameters', lw=0.5)\n",
    "\n",
    "plt.xlabel('Parameter Index', fontsize=6)\n",
    "plt.ylabel('Parameter Value', fontsize=6)\n",
    "plt.title('Parameters Comparison for VQE Ansatz', fontsize=7)\n",
    "plt.ylim([-0.5, 3*np.pi+0.3])\n",
    "\n",
    "# Set y-axis ticks to 0, pi, and 2*pi\n",
    "plt.yticks([0, np.pi, 2*np.pi, 3*np.pi], ['0', r'$\\pi$', r'$2\\pi$', r'$3\\pi$'], fontsize=5)\n",
    "plt.xticks(fontsize=5)\n",
    "plt.legend(fontsize=6, loc='best')\n",
    "\n",
    "plt.grid(True)\n",
    "plt.show()"
   ]
  },
  {
   "cell_type": "markdown",
   "metadata": {},
   "source": [
    "### Output of the minimizer"
   ]
  },
  {
   "cell_type": "code",
   "execution_count": 47,
   "metadata": {},
   "outputs": [
    {
     "name": "stdout",
     "output_type": "stream",
     "text": [
      "-9.472117630727746\n",
      "[ 4.82744098e+00  1.58295431e+00  4.22395047e+00  5.02618388e+00\n",
      "  4.06554625e+00 -6.90814241e-07  6.50025765e+00  4.69968310e+00\n",
      "  2.24059130e+00  3.97664151e+00  2.21763841e+00  3.54881696e+00\n",
      "  8.68910751e-01  6.51854622e+00  2.79485572e+00  4.50177773e-01\n",
      "  4.71235040e+00  3.48553892e+00  2.39707830e+00  5.26119531e+00\n",
      "  3.75821438e+00  4.31563194e+00  4.71242953e+00  4.71239599e+00\n",
      "  1.01996341e-05  5.65180426e+00  1.86972790e-01  1.88219420e+00\n",
      "  6.28318433e+00 -6.75855665e-06  1.57078937e+00  7.56353316e+00\n",
      "  5.54008823e+00  7.25150522e+00  3.79043234e-01  8.23478448e-06\n",
      "  3.69866068e+00  3.86459136e+00  6.46108755e-01  3.40540211e+00\n",
      "  4.56984873e+00  4.62111381e+00  1.90457761e+00  1.57079206e+00\n",
      "  3.23727878e+00  1.35574589e+00  4.71238880e+00  3.45188923e+00\n",
      "  1.57078803e+00  1.57079033e+00  6.28317332e+00  6.28317500e+00\n",
      "  4.71238450e+00  4.71238533e+00]\n",
      "54\n",
      "  message: Optimization terminated successfully.\n",
      "  success: True\n",
      "   status: 0\n",
      "      fun: -9.472117630727746\n",
      "        x: [ 4.827e+00  1.583e+00 ...  4.712e+00  4.712e+00]\n",
      "      nit: 465\n",
      "      jac: [-1.192e-07 -3.099e-06 ...  5.960e-07 -5.960e-07]\n",
      " hess_inv: [[ 1.135e+01 -1.377e-02 ... -3.925e-01 -4.075e-01]\n",
      "            [-1.377e-02  8.090e+00 ...  3.220e-01  3.994e-01]\n",
      "            ...\n",
      "            [-3.925e-01  3.220e-01 ...  2.427e+00  1.996e+00]\n",
      "            [-4.075e-01  3.994e-01 ...  1.996e+00  2.706e+00]]\n",
      "     nfev: 27445\n",
      "     njev: 499\n"
     ]
    }
   ],
   "source": [
    "print(best)\n",
    "print(params)\n",
    "print(len(params))\n",
    "print(extra)"
   ]
  },
  {
   "cell_type": "markdown",
   "metadata": {},
   "source": [
    "### Fuse the circuit\n",
    "\n",
    "When using a VQE with more than 12 qubits, it may be useful to **fuse** the circit implementing the ansatz using `qibo.models.Circuit.fuse()`.\n",
    "\n",
    "Fuse the layer of one-qubit parametrized gates (Ry) with the layer of two-qubit entangling gates (CZ) and applying **both as a single layer** of general two-qubit gates (as 4x4 matrices)."
   ]
  },
  {
   "cell_type": "code",
   "execution_count": 54,
   "metadata": {},
   "outputs": [],
   "source": [
    "nqubits = 6\n",
    "nlayers  = 4\n",
    "\n",
    "circuit = models.Circuit(nqubits)\n",
    "for l in range(nlayers):\n",
    "    circuit.add((gates.RY(q, theta=0) for q in range(nqubits)))\n",
    "    circuit.add((gates.CZ(q, q+1) for q in range(0, nqubits-1, 2)))\n",
    "    circuit.add((gates.RY(q, theta=0) for q in range(nqubits)))\n",
    "    circuit.add((gates.CZ(q, q+1) for q in range(1, nqubits-2, 2)))\n",
    "    circuit.add(gates.CZ(0, nqubits-1))\n",
    "circuit.add((gates.RY(q, theta=0) for q in range(nqubits)))\n",
    "circuit = circuit.fuse()"
   ]
  },
  {
   "cell_type": "code",
   "execution_count": 55,
   "metadata": {},
   "outputs": [
    {
     "name": "stdout",
     "output_type": "stream",
     "text": [
      "q0:     ─[─RY─o─RY─]───────────────────────────────────────────[─o─RY─]─[─o─RY ...\n",
      "q1:     ─[─RY─Z─RY─]─────────────────────────[─o─RY─]──────────|─|────|─[─Z─RY ...\n",
      "q2:     ─────────────[─RY─o─RY─]─────────────[─Z─RY─]──────────|─|────|─────── ...\n",
      "q3:     ─────────────[─RY─Z─RY─]──────────────────────[─o─RY─]─|─|────|─────── ...\n",
      "q4:     ─────────────────────────[─RY─o─RY─]──────────[─Z─RY─]─|─|────|─────── ...\n",
      "q5:     ─────────────────────────[─RY─Z─RY─]───────────────────[─Z─RY─]─────── ...\n",
      "\n",
      "q0: ... ─]─────────────────────────────────────[─o─RY─]─[─o─RY─]────────────── ...\n",
      "q1: ... ─]───────────────────[─o─RY─]──────────|─|────|─[─Z─RY─]────────────── ...\n",
      "q2: ... ───[─o─RY─]──────────[─Z─RY─]──────────|─|────|──────────[─o─RY─]───── ...\n",
      "q3: ... ───[─Z─RY─]───────────────────[─o─RY─]─|─|────|──────────[─Z─RY─]───── ...\n",
      "q4: ... ────────────[─o─RY─]──────────[─Z─RY─]─|─|────|───────────────────[─o─ ...\n",
      "q5: ... ────────────[─Z─RY─]───────────────────[─Z─RY─]───────────────────[─Z─ ...\n",
      "\n",
      "q0: ... ───────────────────────[─o─RY─]─[─o─RY─]────────────────────────────── ...\n",
      "q1: ... ─────[─o─RY─]──────────|─|────|─[─Z─RY─]───────────────────[─o─RY─]─── ...\n",
      "q2: ... ─────[─Z─RY─]──────────|─|────|──────────[─o─RY─]──────────[─Z─RY─]─── ...\n",
      "q3: ... ──────────────[─o─RY─]─|─|────|──────────[─Z─RY─]───────────────────[─ ...\n",
      "q4: ... RY─]──────────[─Z─RY─]─|─|────|───────────────────[─o─RY─]──────────[─ ...\n",
      "q5: ... RY─]───────────────────[─Z─RY─]───────────────────[─Z─RY─]──────────── ...\n",
      "\n",
      "q0: ... ───────[─o─RY─]─\n",
      "q1: ... ───────|─|────|─\n",
      "q2: ... ───────|─|────|─\n",
      "q3: ... o─RY─]─|─|────|─\n",
      "q4: ... Z─RY─]─|─|────|─\n",
      "q5: ... ───────[─Z─RY─]─\n",
      "\n",
      "Circuit characterization:\n",
      "Circuit depth = 8\n",
      "Total number of gates = 24\n",
      "Number of qubits = 6\n",
      "Most common gates:\n",
      "Fused Gate: 24\n"
     ]
    }
   ],
   "source": [
    "print(circuit.draw())\n",
    "print('\\nCircuit characterization:')\n",
    "print(circuit.summary())"
   ]
  },
  {
   "cell_type": "markdown",
   "metadata": {},
   "source": [
    "# Custom variational circuit optimization"
   ]
  },
  {
   "cell_type": "code",
   "execution_count": 57,
   "metadata": {},
   "outputs": [],
   "source": [
    "import numpy as np\n",
    "from qibo import models, gates\n",
    "from qibo.optimizers import optimize\n",
    "\n",
    "# custom loss function, computes fidelity\n",
    "def myloss(parameters, circuit, target):\n",
    "    circuit.set_parameters(parameters)\n",
    "    final_state = circuit().state(numpy=True)\n",
    "    return 1 - np.abs(np.conj(target).dot(final_state))\n",
    "\n",
    "nqubits = 6\n",
    "nlayers  = 2\n",
    "\n",
    "# Create variational circuit\n",
    "c = models.Circuit(nqubits)\n",
    "for l in range(nlayers):\n",
    "    c.add((gates.RY(q, theta=0) for q in range(nqubits)))\n",
    "    c.add((gates.CZ(q, q+1) for q in range(0, nqubits-1, 2)))\n",
    "    c.add((gates.RY(q, theta=0) for q in range(nqubits)))\n",
    "    c.add((gates.CZ(q, q+1) for q in range(1, nqubits-2, 2)))\n",
    "    c.add(gates.CZ(0, nqubits-1))\n",
    "c.add((gates.RY(q, theta=0) for q in range(nqubits)))\n",
    "\n",
    "# Optimize starting from a random guess for the variational parameters\n",
    "x0 = np.random.uniform(0, 2*np.pi, 2*nqubits*nlayers + nqubits)\n",
    "data = np.random.normal(0, 1, size=2**nqubits)\n",
    "\n",
    "# perform optimization\n",
    "best, params, extra = optimize(myloss, x0, args=(c, data), method='BFGS')\n",
    "\n",
    "# set final solution to circuit instance\n",
    "c.set_parameters(params)"
   ]
  },
  {
   "cell_type": "code",
   "execution_count": 61,
   "metadata": {},
   "outputs": [
    {
     "name": "stdout",
     "output_type": "stream",
     "text": [
      "q0: ─RY─o─────RY─────o─RY─o─────RY─────o─RY─\n",
      "q1: ─RY─Z─────RY─o───|─RY─Z─────RY─o───|─RY─\n",
      "q2: ─RY───o───RY─Z───|─RY───o───RY─Z───|─RY─\n",
      "q3: ─RY───Z───RY───o─|─RY───Z───RY───o─|─RY─\n",
      "q4: ─RY─────o─RY───Z─|─RY─────o─RY───Z─|─RY─\n",
      "q5: ─RY─────Z─RY─────Z─RY─────Z─RY─────Z─RY─\n",
      "\n",
      "Circuit characterization:\n",
      "Circuit depth = 9\n",
      "Total number of gates = 42\n",
      "Number of qubits = 6\n",
      "Most common gates:\n",
      "ry: 30\n",
      "cz: 12\n"
     ]
    }
   ],
   "source": [
    "print(c.draw())\n",
    "print('\\nCircuit characterization:')\n",
    "print(c.summary())"
   ]
  },
  {
   "cell_type": "code",
   "execution_count": 63,
   "metadata": {},
   "outputs": [
    {
     "name": "stdout",
     "output_type": "stream",
     "text": [
      "-6.0959386086653895\n",
      "[ 1.47642748  3.69133131  4.44211118 -1.44863149 -1.23965825  0.95124605\n",
      "  5.18147418  4.74412192  1.85194853  3.44957418  3.19401492  3.85251782\n",
      "  5.41209065  5.88952527  1.01238165  1.46675153  4.00947372  1.8212263\n",
      "  0.52573944  2.81039112  3.80445058  5.40335613  0.60239341  2.18942381\n",
      "  3.57241282  0.34591047  0.94382121  1.93262112  2.85683667  2.66212173]\n",
      "30\n",
      "  message: Optimization terminated successfully.\n",
      "  success: True\n",
      "   status: 0\n",
      "      fun: -6.0959386086653895\n",
      "        x: [ 1.476e+00  3.691e+00 ...  2.857e+00  2.662e+00]\n",
      "      nit: 49\n",
      "      jac: [-1.132e-06  1.967e-06 ...  4.768e-07 -5.007e-06]\n",
      " hess_inv: [[ 9.570e-01 -1.207e-02 ... -2.364e-01  3.399e-01]\n",
      "            [-1.207e-02  8.485e-01 ...  6.414e-02 -1.839e-01]\n",
      "            ...\n",
      "            [-2.364e-01  6.414e-02 ...  1.422e+00 -4.438e-01]\n",
      "            [ 3.399e-01 -1.839e-01 ... -4.438e-01  1.471e+00]]\n",
      "     nfev: 1674\n",
      "     njev: 54\n"
     ]
    }
   ],
   "source": [
    "print(best)\n",
    "print(params)\n",
    "print(len(params))\n",
    "print(extra)"
   ]
  },
  {
   "cell_type": "code",
   "execution_count": null,
   "metadata": {},
   "outputs": [],
   "source": []
  }
 ],
 "metadata": {
  "kernelspec": {
   "display_name": "Quili",
   "language": "python",
   "name": "python3"
  },
  "language_info": {
   "codemirror_mode": {
    "name": "ipython",
    "version": 3
   },
   "file_extension": ".py",
   "mimetype": "text/x-python",
   "name": "python",
   "nbconvert_exporter": "python",
   "pygments_lexer": "ipython3",
   "version": "3.11.5"
  }
 },
 "nbformat": 4,
 "nbformat_minor": 2
}
