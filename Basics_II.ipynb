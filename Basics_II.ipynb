{
 "cells": [
  {
   "cell_type": "markdown",
   "metadata": {},
   "source": [
    "# Basics II"
   ]
  },
  {
   "cell_type": "markdown",
   "metadata": {},
   "source": [
    "**Check the following line. Why there is no GPU?**"
   ]
  },
  {
   "cell_type": "code",
   "execution_count": 13,
   "metadata": {},
   "outputs": [
    {
     "data": {
      "text/plain": [
       "[PhysicalDevice(name='/physical_device:CPU:0', device_type='CPU')]"
      ]
     },
     "execution_count": 13,
     "metadata": {},
     "output_type": "execute_result"
    }
   ],
   "source": [
    "import tensorflow as tf\n",
    "tf.config.experimental.list_physical_devices()"
   ]
  },
  {
   "cell_type": "code",
   "execution_count": 14,
   "metadata": {},
   "outputs": [
    {
     "name": "stdout",
     "output_type": "stream",
     "text": [
      "Current device: /GPU:0\n"
     ]
    }
   ],
   "source": [
    "# Get the current device\n",
    "current_device = qibo.get_device()\n",
    "print(f\"Current device: {current_device}\")"
   ]
  },
  {
   "cell_type": "code",
   "execution_count": 2,
   "metadata": {},
   "outputs": [
    {
     "name": "stderr",
     "output_type": "stream",
     "text": [
      "[Qibo 0.2.1|INFO|2023-10-24 22:30:25]: Using tensorflow backend on /device:CPU:0\n"
     ]
    },
    {
     "name": "stdout",
     "output_type": "stream",
     "text": [
      "Current backend: tensorflow\n",
      "Current device: /device:CPU:0\n"
     ]
    }
   ],
   "source": [
    "import qibo\n",
    "\n",
    "# Get the current backend\n",
    "current_backend = qibo.get_backend()\n",
    "print(f\"Current backend: {current_backend}\")\n",
    "\n",
    "# Get the current device\n",
    "current_device = qibo.get_device()\n",
    "print(f\"Current device: {current_device}\")"
   ]
  },
  {
   "cell_type": "code",
   "execution_count": 4,
   "metadata": {},
   "outputs": [
    {
     "name": "stderr",
     "output_type": "stream",
     "text": [
      "[Qibo 0.2.1|INFO|2023-10-24 22:30:47]: Using tensorflow backend on /CPU:0\n",
      "[Qibo 0.2.1|INFO|2023-10-24 22:30:47]: Using tensorflow backend on /CPU:0\n"
     ]
    },
    {
     "name": "stdout",
     "output_type": "stream",
     "text": [
      "\n",
      "(0.00098+0j)|00000000000000000000> + (0.00098+0j)|00000000000000000001> + (0.00098+0j)|00000000000000000010> + (0.00098+0j)|00000000000000000011> + (0.00098+0j)|00000000000000000100> + (0.00098+0j)|00000000000000000101> + (0.00098+0j)|00000000000000000110> + (0.00098+0j)|00000000000000000111> + (0.00098+0j)|00000000000000001000> + (0.00098+0j)|00000000000000001001> + (0.00098+0j)|00000000000000001010> + (0.00098+0j)|00000000000000001011> + (0.00098+0j)|00000000000000001100> + (0.00098+0j)|00000000000000001101> + (0.00098+0j)|00000000000000001110> + (0.00098+0j)|00000000000000001111> + (0.00098+0j)|00000000000000010000> + (0.00098+0j)|00000000000000010001> + (0.00098+0j)|00000000000000010010> + (0.00098+0j)|00000000000000010011> + ...\n"
     ]
    }
   ],
   "source": [
    "from qibo.models import QFT\n",
    "\n",
    "qibo.set_backend(\"tensorflow\")\n",
    "qibo.set_device(\"/CPU:0\")\n",
    "\n",
    "c = QFT(20)\n",
    "final_state = c() # circuit will now be executed on CPU\n",
    "print()\n",
    "print(final_state)"
   ]
  },
  {
   "cell_type": "code",
   "execution_count": 10,
   "metadata": {},
   "outputs": [
    {
     "name": "stderr",
     "output_type": "stream",
     "text": [
      "[Qibo 0.2.1|INFO|2023-10-24 22:50:41]: Using tensorflow backend on /CPU:0\n"
     ]
    },
    {
     "name": "stdout",
     "output_type": "stream",
     "text": [
      "\n",
      "(1+0j)|0000000000000000000000000>\n"
     ]
    }
   ],
   "source": [
    "from qibo import Circuit, gates\n",
    "qibo.set_device(\"/CPU:0\")\n",
    "\n",
    "# Construct the circuit\n",
    "c = QFT(25)\n",
    "for i in range(25):\n",
    "    c.add(gates.H(i))\n",
    "\n",
    "final_state = c() # circuit will now be executed on CPU\n",
    "print()\n",
    "print(final_state)"
   ]
  },
  {
   "cell_type": "code",
   "execution_count": 16,
   "metadata": {},
   "outputs": [
    {
     "name": "stderr",
     "output_type": "stream",
     "text": [
      "[Qibo 0.2.1|INFO|2023-10-25 00:54:56]: Using tensorflow backend on /GPU:5\n"
     ]
    },
    {
     "name": "stdout",
     "output_type": "stream",
     "text": [
      "\n",
      "(1+0j)|0000000000000000000000000>\n"
     ]
    }
   ],
   "source": [
    "import numpy as np\n",
    "import qibo\n",
    "from qibo import Circuit, gates\n",
    "\n",
    "qibo.set_device(\"/GPU:5\")\n",
    "\n",
    "# Construct the circuit\n",
    "c = QFT(25)\n",
    "for i in range(25):\n",
    "    c.add(gates.H(i))\n",
    "\n",
    "final_state = c() # circuit will now be executed on GPU\n",
    "print()\n",
    "print(final_state)"
   ]
  },
  {
   "cell_type": "markdown",
   "metadata": {},
   "source": [
    "## Restart Kernet for setting the number of CPU threads\n",
    "\n",
    "Un \"thread\" (o hilo en español) es una secuencia de instrucciones que pueden ser ejecutadas en paralelo con otras secuencias en un programa. En un sistema operativo, los threads son una forma de permitir que múltiples operaciones ocurran simultáneamente dentro de un mismo proceso.\n",
    "\n",
    "**From here, everything has turned very incomprehensible!**"
   ]
  },
  {
   "cell_type": "code",
   "execution_count": 1,
   "metadata": {},
   "outputs": [
    {
     "name": "stderr",
     "output_type": "stream",
     "text": [
      "[Qibo 0.2.1|INFO|2023-10-25 17:23:02]: Using tensorflow backend on /device:CPU:0\n",
      "[Qibo 0.2.1|INFO|2023-10-25 17:23:02]: Using tensorflow backend on /CPU:0\n"
     ]
    },
    {
     "name": "stdout",
     "output_type": "stream",
     "text": [
      "(1+0j)|00>\n"
     ]
    }
   ],
   "source": [
    "import tensorflow as tf\n",
    "tf.config.threading.set_inter_op_parallelism_threads(1)\n",
    "tf.config.threading.set_intra_op_parallelism_threads(1)\n",
    "# Explore more on this!!\n",
    "\n",
    "import qibo\n",
    "from qibo.models import Circuit\n",
    "\n",
    "\n",
    "qibo.set_device(\"/CPU:0\")\n",
    "\n",
    "# accelerators = {\"/GPU:0\": 3, \"/GPU:1\": 1}\n",
    "\n",
    "c = Circuit(2)#, accelerators)\n",
    "final_state = c() # circuit will now be executed on CPU\n",
    "print(final_state)"
   ]
  },
  {
   "cell_type": "code",
   "execution_count": 4,
   "metadata": {},
   "outputs": [
    {
     "name": "stderr",
     "output_type": "stream",
     "text": [
      "[Qibo 0.2.1|WARNING|2023-10-24 20:37:35]: `set_threads` is not supported by the tensorflow backend. Please use tensorflow's thread setters: `tf.config.threading.set_inter_op_parallelism_threads` or `tf.config.threading.set_intra_op_parallelism_threads` to switch the number of threads.\n"
     ]
    }
   ],
   "source": [
    "# set the number of threads to 1\n",
    "qibo.set_threads(1)\n",
    "# retrieve the current number of threads\n",
    "current_threads = qibo.get_threads()"
   ]
  },
  {
   "cell_type": "code",
   "execution_count": 17,
   "metadata": {},
   "outputs": [
    {
     "name": "stderr",
     "output_type": "stream",
     "text": [
      "[Qibo 0.2.1|ERROR|2023-10-25 01:23:32]: tensorflow does not support distributed execution.\n"
     ]
    },
    {
     "ename": "NotImplementedError",
     "evalue": "tensorflow does not support distributed execution.",
     "output_type": "error",
     "traceback": [
      "\u001b[1;31m---------------------------------------------------------------------------\u001b[0m",
      "\u001b[1;31mNotImplementedError\u001b[0m                       Traceback (most recent call last)",
      "\u001b[1;32mc:\\Users\\Luciano Gabbanelli\\Desktop\\Documentos\\Quilimanjaro\\quibobis\\Basics_II.ipynb Cell 12\u001b[0m line \u001b[0;36m2\n\u001b[0;32m     <a href='vscode-notebook-cell:/c%3A/Users/Luciano%20Gabbanelli/Desktop/Documentos/Quilimanjaro/quibobis/Basics_II.ipynb#W5sZmlsZQ%3D%3D?line=16'>17</a>\u001b[0m c\u001b[39m.\u001b[39madd(gates\u001b[39m.\u001b[39mCU1(\u001b[39m0\u001b[39m, \u001b[39m1\u001b[39m, \u001b[39m0.1234\u001b[39m))\n\u001b[0;32m     <a href='vscode-notebook-cell:/c%3A/Users/Luciano%20Gabbanelli/Desktop/Documentos/Quilimanjaro/quibobis/Basics_II.ipynb#W5sZmlsZQ%3D%3D?line=19'>20</a>\u001b[0m init_state \u001b[39m=\u001b[39m np\u001b[39m.\u001b[39mones(\u001b[39m4\u001b[39m) \u001b[39m/\u001b[39m \u001b[39m2.0\u001b[39m\n\u001b[1;32m---> <a href='vscode-notebook-cell:/c%3A/Users/Luciano%20Gabbanelli/Desktop/Documentos/Quilimanjaro/quibobis/Basics_II.ipynb#W5sZmlsZQ%3D%3D?line=20'>21</a>\u001b[0m c(init_state)\n",
      "File \u001b[1;32mc:\\Users\\Luciano Gabbanelli\\anaconda3\\envs\\Quili\\Lib\\site-packages\\qibo\\models\\circuit.py:1013\u001b[0m, in \u001b[0;36mCircuit.__call__\u001b[1;34m(self, initial_state, nshots)\u001b[0m\n\u001b[0;32m   1011\u001b[0m \u001b[39mdef\u001b[39;00m \u001b[39m__call__\u001b[39m(\u001b[39mself\u001b[39m, initial_state\u001b[39m=\u001b[39m\u001b[39mNone\u001b[39;00m, nshots\u001b[39m=\u001b[39m\u001b[39mNone\u001b[39;00m):\n\u001b[0;32m   1012\u001b[0m \u001b[39m    \u001b[39m\u001b[39m\"\"\"Equivalent to ``circuit.execute``.\"\"\"\u001b[39;00m\n\u001b[1;32m-> 1013\u001b[0m     \u001b[39mreturn\u001b[39;00m \u001b[39mself\u001b[39;49m\u001b[39m.\u001b[39;49mexecute(initial_state\u001b[39m=\u001b[39;49minitial_state, nshots\u001b[39m=\u001b[39;49mnshots)\n",
      "File \u001b[1;32mc:\\Users\\Luciano Gabbanelli\\anaconda3\\envs\\Quili\\Lib\\site-packages\\qibo\\models\\circuit.py:1005\u001b[0m, in \u001b[0;36mCircuit.execute\u001b[1;34m(self, initial_state, nshots)\u001b[0m\n\u001b[0;32m   1002\u001b[0m \u001b[39mfrom\u001b[39;00m \u001b[39mqibo\u001b[39;00m\u001b[39m.\u001b[39;00m\u001b[39mbackends\u001b[39;00m \u001b[39mimport\u001b[39;00m GlobalBackend\n\u001b[0;32m   1004\u001b[0m \u001b[39mif\u001b[39;00m \u001b[39mself\u001b[39m\u001b[39m.\u001b[39maccelerators:  \u001b[39m# pragma: no cover\u001b[39;00m\n\u001b[1;32m-> 1005\u001b[0m     \u001b[39mreturn\u001b[39;00m GlobalBackend()\u001b[39m.\u001b[39;49mexecute_distributed_circuit(\n\u001b[0;32m   1006\u001b[0m         \u001b[39mself\u001b[39;49m, initial_state, nshots\n\u001b[0;32m   1007\u001b[0m     )\n\u001b[0;32m   1008\u001b[0m \u001b[39melse\u001b[39;00m:\n\u001b[0;32m   1009\u001b[0m     \u001b[39mreturn\u001b[39;00m GlobalBackend()\u001b[39m.\u001b[39mexecute_circuit(\u001b[39mself\u001b[39m, initial_state, nshots)\n",
      "File \u001b[1;32mc:\\Users\\Luciano Gabbanelli\\anaconda3\\envs\\Quili\\Lib\\site-packages\\qibo\\backends\\numpy.py:510\u001b[0m, in \u001b[0;36mNumpyBackend.execute_distributed_circuit\u001b[1;34m(self, circuit, initial_state, nshots, return_array)\u001b[0m\n\u001b[0;32m    507\u001b[0m \u001b[39mdef\u001b[39;00m \u001b[39mexecute_distributed_circuit\u001b[39m(\n\u001b[0;32m    508\u001b[0m     \u001b[39mself\u001b[39m, circuit, initial_state\u001b[39m=\u001b[39m\u001b[39mNone\u001b[39;00m, nshots\u001b[39m=\u001b[39m\u001b[39mNone\u001b[39;00m, return_array\u001b[39m=\u001b[39m\u001b[39mFalse\u001b[39;00m\n\u001b[0;32m    509\u001b[0m ):\n\u001b[1;32m--> 510\u001b[0m     raise_error(\n\u001b[0;32m    511\u001b[0m         \u001b[39mNotImplementedError\u001b[39;49;00m, \u001b[39mf\u001b[39;49m\u001b[39m\"\u001b[39;49m\u001b[39m{\u001b[39;49;00m\u001b[39mself\u001b[39;49m\u001b[39m}\u001b[39;49;00m\u001b[39m does not support distributed execution.\u001b[39;49m\u001b[39m\"\u001b[39;49m\n\u001b[0;32m    512\u001b[0m     )\n",
      "File \u001b[1;32mc:\\Users\\Luciano Gabbanelli\\anaconda3\\envs\\Quili\\Lib\\site-packages\\qibo\\config.py:48\u001b[0m, in \u001b[0;36mraise_error\u001b[1;34m(exception, message, args)\u001b[0m\n\u001b[0;32m     46\u001b[0m     \u001b[39mraise\u001b[39;00m exception(message, args)\n\u001b[0;32m     47\u001b[0m \u001b[39melse\u001b[39;00m:\n\u001b[1;32m---> 48\u001b[0m     \u001b[39mraise\u001b[39;00m exception(message)\n",
      "\u001b[1;31mNotImplementedError\u001b[0m: tensorflow does not support distributed execution."
     ]
    }
   ],
   "source": [
    "# import qibo\n",
    "# import numpy as np\n",
    "\n",
    "# qibo.set_backend(\"numpy\")\n",
    "\n",
    "# from qibo import Circuit, gates\n",
    "\n",
    "# qibo.set_device(\"/CPU:0\")\n",
    "\n",
    "accelerators = {\"/GPU:0\": 3, \"/GPU:1\": 1}\n",
    "\n",
    "c = Circuit(5, accelerators)\n",
    "\n",
    "\n",
    "c.add(gates.X(0))\n",
    "c.add(gates.X(1))\n",
    "c.add(gates.CU1(0, 1, 0.1234))\n",
    "\n",
    "\n",
    "init_state = np.ones(4) / 2.0\n",
    "c(init_state)"
   ]
  },
  {
   "cell_type": "markdown",
   "metadata": {},
   "source": [
    "**Up to here, everything has been very confusing!**"
   ]
  },
  {
   "cell_type": "markdown",
   "metadata": {},
   "source": [
    "## Callbacks for entanglement entropy\n",
    "\n",
    "An example use case of this is the calculation of entanglement entropy as the state propagates through a circuit. This can be implemented easily using `qibo.callbacks.EntanglementEntropy` and the `qibo.gates.CallbackGate` gate."
   ]
  },
  {
   "cell_type": "code",
   "execution_count": 31,
   "metadata": {},
   "outputs": [
    {
     "name": "stdout",
     "output_type": "stream",
     "text": [
      "Given this circuit:\n",
      "q0: ─EE─H─EE─o─EE─\n",
      "q1: ─EE───EE─X─EE─\n",
      "\n",
      "Entropy calculation is performed after c() is executed:\n",
      " ['-0.000', '0.000', '1.000']\n",
      "This is the entropy of the Bell state! :D\n",
      "\n",
      "Final state: (0.70711+0j)|00> + (0.70711+0j)|11>\n",
      "\n",
      "Entropy calculation when cicuit is executed for second time:\n",
      " ['-0.000', '0.000', '1.000', '-0.000', '0.000', '1.000']\n"
     ]
    }
   ],
   "source": [
    "from qibo import models, gates, callbacks\n",
    "\n",
    "# create entropy callback where qubit 0 is the first subsystem\n",
    "entropy = callbacks.EntanglementEntropy([0])\n",
    "\n",
    "# initialize circuit with 2 qubits and add gates\n",
    "c = models.Circuit(2) # state is |00> (entropy = 0)\n",
    "c.add(gates.CallbackGate(entropy)) # performs entropy calculation in the initial state\n",
    "c.add(gates.H(0)) # state is |+0> (entropy = 0)\n",
    "c.add(gates.CallbackGate(entropy)) # performs entropy calculation after H\n",
    "c.add(gates.CNOT(0, 1)) # state is |00> + |11> (entropy = 1))\n",
    "c.add(gates.CallbackGate(entropy)) # performs entropy calculation after CNOT\n",
    "\n",
    "# Execute the circuit using the callback\n",
    "final_state = c()\n",
    "\n",
    "# Draw the circuit:\n",
    "print('Given this circuit:')\n",
    "print(c.draw())\n",
    "\n",
    "# tf to float:\n",
    "formatted_output = [format(tensor.numpy(), '.3f') for tensor in entropy[:]]\n",
    "print('\\nEntropy calculation is performed after c() is executed:\\n', formatted_output)\n",
    "print('This is the entropy of the Bell state! :D\\n')\n",
    "\n",
    "# Prints the final state in Dirac form:\n",
    "print('Final state:', final_state)\n",
    "\n",
    "# Execute the circuit a second time\n",
    "final_state = c()\n",
    "formatted_output_2 = [format(tensor.numpy(), '.3f') for tensor in entropy[:]]\n",
    "print('\\nEntropy calculation when cicuit is executed for second time:\\n', formatted_output_2)"
   ]
  },
  {
   "cell_type": "markdown",
   "metadata": {},
   "source": [
    "The final state is the following Bell state:\n",
    "\n",
    "$$|\\Phi^+\\rangle=\\frac{|00\\rangle+|11\\rangle}{\\sqrt{2}}$$"
   ]
  },
  {
   "cell_type": "code",
   "execution_count": 33,
   "metadata": {},
   "outputs": [
    {
     "data": {
      "text/plain": [
       "0.7071067811865475"
      ]
     },
     "execution_count": 33,
     "metadata": {},
     "output_type": "execute_result"
    }
   ],
   "source": [
    "import numpy as np\n",
    "1/np.sqrt(2)"
   ]
  },
  {
   "cell_type": "markdown",
   "metadata": {},
   "source": [
    "## Parametrized gates\n",
    "\n",
    "Qibo gates such as rotations accept values for their free parameter. Once such gates are added in a circuit their parameters can be updated using the `qibo.models.circuit.Circuit.set_parameters()` method."
   ]
  },
  {
   "cell_type": "code",
   "execution_count": 36,
   "metadata": {},
   "outputs": [
    {
     "name": "stdout",
     "output_type": "stream",
     "text": [
      "Given this circuit:\n",
      "q0: ─RX───f───\n",
      "q1: ─RY─o─|───\n",
      "q2: ────Z─f─H─\n",
      "\n",
      "Final state: (0.70711+0j)|000> + (0.70711+0j)|001>\n",
      "\n",
      "Final state: (0.65746+0j)|000> + (0.71755+0j)|001> + (0.15255+0j)|010> + (0.1665+0j)|011> + -0.02983j|100> + -0.02983j|101> + -0.00692j|110> + -0.00692j|111>\n"
     ]
    }
   ],
   "source": [
    "from qibo import Circuit, gates\n",
    "# create a circuit with all parameters set to 0.\n",
    "c = Circuit(3)\n",
    "\n",
    "# All rotation angles are parametric and can be changed later\n",
    "c.add(gates.RX(0, theta=0))\n",
    "c.add(gates.RY(1, theta=0))\n",
    "c.add(gates.CZ(1, 2))\n",
    "c.add(gates.fSim(0, 2, theta=0, phi=0))\n",
    "c.add(gates.H(2))\n",
    "\n",
    "# Draw the circuit:\n",
    "print('Given this circuit:')\n",
    "print(c.draw())\n",
    "\n",
    "# Prints the final state in Dirac form:\n",
    "final_state = c()\n",
    "print('\\nFinal state:', final_state)\n",
    "\n",
    "# set new values to the circuit's parameters\n",
    "params = [0.123, 0.456, (0.789, 0.321)]\n",
    "c.set_parameters(params)\n",
    "\n",
    "# Prints the final state after changing parameters:\n",
    "final_state = c()\n",
    "print('\\nFinal state:', final_state)\n"
   ]
  },
  {
   "cell_type": "markdown",
   "metadata": {},
   "source": [
    "Equivalently, set parameters `circuit.set_parameters()` with a dictionary or a flat list."
   ]
  },
  {
   "cell_type": "code",
   "execution_count": null,
   "metadata": {},
   "outputs": [],
   "source": [
    "c = Circuit(3)\n",
    "g0 = gates.RX(0, theta=0)\n",
    "g1 = gates.RY(1, theta=0)\n",
    "g2 = gates.fSim(0, 2, theta=0, phi=0)\n",
    "c.add([g0, g1, gates.CZ(1, 2), g2, gates.H(2)])\n",
    "\n",
    "# set new values to the circuit's parameters using a dictionary\n",
    "params = {g0: 0.123, g1: 0.456, g2: (0.789, 0.321)}\n",
    "c.set_parameters(params)\n",
    "# equivalently the parameter's can be update with a list as\n",
    "params = [0.123, 0.456, (0.789, 0.321)]\n",
    "c.set_parameters(params)\n",
    "# or with a flat list as\n",
    "params = [0.123, 0.456, 0.789, 0.321]\n",
    "c.set_parameters(params)"
   ]
  },
  {
   "cell_type": "markdown",
   "metadata": {},
   "source": [
    "The following gates support parameter setting:\n",
    "\n",
    "* `RX`, `RY`, `RZ`, `U1`, `CU1`: Accept a single `theta` parameter.\n",
    "\n",
    "* `qibo.gates.fSim`: Accepts a tuple of two parameters (`theta`, `phi`).\n",
    "\n",
    "* `qibo.gates.GeneralizedfSim`: Accepts a tuple of two parameters `(unitary, phi)`. Here `unitary` should be a unitary matrix given as an array or `tf.Tensor` of shape `(2, 2)`.\n",
    "\n",
    "* `qibo.gates.Unitary`: Accepts a single `unitary` parameter. This should be an array or `tf.Tensor` of shape `(2, 2)`.\n",
    "\n",
    "**Note** that a `np.ndarray` or a `tf.Tensor` may also be used in the place of a flat list. Using `qibo.models.circuit.Circuit.set_parameters()` is more efficient than recreating a new circuit with new parameter values.\n",
    "\n",
    "**Get parameters:** The inverse method `qibo.models.circuit.Circuit.get_parameters()` is also available and returns a list, dictionary or flat list."
   ]
  },
  {
   "cell_type": "markdown",
   "metadata": {},
   "source": [
    "Hide a parametrized gate from the action of `qibo.models.circuit.Circuit.get_parameters()` and `qibo.models.circuit.Circuit.set_parameters()`` by setting the `trainable=False` during gate creation."
   ]
  },
  {
   "cell_type": "code",
   "execution_count": 42,
   "metadata": {},
   "outputs": [
    {
     "name": "stdout",
     "output_type": "stream",
     "text": [
      "[(0.123,), (0.456,), (0.789, 0.567)]\n"
     ]
    }
   ],
   "source": [
    "c = Circuit(3)\n",
    "c.add(gates.RX(0, theta=0.123))\n",
    "c.add(gates.RY(1, theta=0.456, trainable=True))\n",
    "c.add(gates.fSim(0, 2, theta=0.789, phi=0.567))\n",
    "\n",
    "print(c.get_parameters())\n",
    "# prints [(0.123,), (0.789, 0.567)] ignoring the parameters of the RY gate"
   ]
  },
  {
   "cell_type": "markdown",
   "metadata": {},
   "source": [
    "This is useful when the user wants to freeze the parameters of specific gates during optimization."
   ]
  },
  {
   "cell_type": "markdown",
   "metadata": {},
   "source": []
  }
 ],
 "metadata": {
  "kernelspec": {
   "display_name": "Quili",
   "language": "python",
   "name": "python3"
  },
  "language_info": {
   "codemirror_mode": {
    "name": "ipython",
    "version": 3
   },
   "file_extension": ".py",
   "mimetype": "text/x-python",
   "name": "python",
   "nbconvert_exporter": "python",
   "pygments_lexer": "ipython3",
   "version": "3.11.5"
  }
 },
 "nbformat": 4,
 "nbformat_minor": 2
}
