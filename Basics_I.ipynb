{
 "cells": [
  {
   "cell_type": "code",
   "execution_count": 1,
   "metadata": {},
   "outputs": [],
   "source": [
    "# !pip install qibo"
   ]
  },
  {
   "cell_type": "markdown",
   "metadata": {},
   "source": [
    "## Quantum Fourier Transform to test installation"
   ]
  },
  {
   "cell_type": "code",
   "execution_count": 2,
   "metadata": {},
   "outputs": [
    {
     "name": "stderr",
     "output_type": "stream",
     "text": [
      "[Qibo 0.2.1|INFO|2023-10-24 21:50:01]: Using tensorflow backend on /device:CPU:0\n"
     ]
    }
   ],
   "source": [
    "from qibo.models import QFT\n",
    "\n",
    "# Create a QFT circuit with 15 qubits\n",
    "circuit = QFT(15)\n",
    "\n",
    "# Simulate final state wavefunction default initial state is |00>\n",
    "final_state = circuit()"
   ]
  },
  {
   "cell_type": "code",
   "execution_count": 3,
   "metadata": {},
   "outputs": [
    {
     "name": "stdout",
     "output_type": "stream",
     "text": [
      "(0.00552+0j)|000000000000000> + (0.00552+0j)|000000000000001> + (0.00552+0j)|000000000000010> + (0.00552+0j)|000000000000011> + (0.00552+0j)|000000000000100> + (0.00552+0j)|000000000000101> + (0.00552+0j)|000000000000110> + (0.00552+0j)|000000000000111> + (0.00552+0j)|000000000001000> + (0.00552+0j)|000000000001001> + (0.00552+0j)|000000000001010> + (0.00552+0j)|000000000001011> + (0.00552+0j)|000000000001100> + (0.00552+0j)|000000000001101> + (0.00552+0j)|000000000001110> + (0.00552+0j)|000000000001111> + (0.00552+0j)|000000000010000> + (0.00552+0j)|000000000010001> + (0.00552+0j)|000000000010010> + (0.00552+0j)|000000000010011> + ...\n"
     ]
    }
   ],
   "source": [
    "print(final_state)\n"
   ]
  },
  {
   "cell_type": "code",
   "execution_count": 4,
   "metadata": {},
   "outputs": [
    {
     "name": "stdout",
     "output_type": "stream",
     "text": [
      "\n",
      "(0.5+0j)|00> + (0.5+0j)|01> + (0.5+0j)|10> + (0.5+0j)|11>\n"
     ]
    }
   ],
   "source": [
    "# Create a QFT circuit with 2 qubits\n",
    "circuit = QFT(2)\n",
    "final_state = circuit()\n",
    "print()\n",
    "print(final_state)"
   ]
  },
  {
   "cell_type": "markdown",
   "metadata": {},
   "source": [
    "# Add two Hadamard gates:\n",
    "\n",
    "Here is an example of a circuit with 2 qubits:\n",
    "\n",
    "Starting with a uniform (máximum) superposition of all possible states for two qubits:\n",
    "\n",
    "$|\\psi\\rangle = \\frac{1}{2}(|00\\rangle + |01\\rangle + |10\\rangle + |11\\rangle)$\n",
    "\n",
    "Each of the base states (|00⟩, |01⟩, |10⟩, and |11⟩) has an equal probability of being measured. In python this state is:\n",
    "\n",
    "```python\n",
    "initial_state = np.ones(4) / np.sqrt(4)\n",
    "```\n",
    "\n",
    "**Circuit:**\n",
    "\n",
    "|+> ----- H ----- |0>\n",
    "\n",
    "|+> ----- H ----- |0>"
   ]
  },
  {
   "cell_type": "code",
   "execution_count": 7,
   "metadata": {},
   "outputs": [
    {
     "name": "stdout",
     "output_type": "stream",
     "text": [
      "Final state: (1+0j)|00>\n",
      "\n",
      "tf.Tensor([1.+0.j 0.+0.j 0.+0.j 0.+0.j], shape=(4,), dtype=complex128)\n",
      "[1.+0.j 0.+0.j 0.+0.j 0.+0.j]\n"
     ]
    }
   ],
   "source": [
    "import numpy as np\n",
    "from qibo import Circuit, gates\n",
    "\n",
    "# Construct the circuit\n",
    "c = Circuit(2)\n",
    "# Add some gates\n",
    "c.add(gates.H(0))\n",
    "c.add(gates.H(1))\n",
    "\n",
    "# Define an initial state (optional - default initial state is |00>)\n",
    "initial_state = np.ones(4) / 2.0\n",
    "\n",
    "# Execute the circuit and obtain the final state\n",
    "result = c(initial_state) # c.execute(initial_state) also works\n",
    "\n",
    "# Prints the final state in Dirac form:\n",
    "print('Final state:', result)\n",
    "print()\n",
    "\n",
    "\n",
    "# Prints the final state in matrix form:\n",
    "print(result.state()) # should print `tf.Tensor([1, 0, 0, 0])`\n",
    "print(result.state(numpy=True)) # should print `np.array([1, 0, 0, 0])`"
   ]
  },
  {
   "cell_type": "markdown",
   "metadata": {},
   "source": [
    "## Freeze circuit and querry for different initial states\n",
    "\n",
    "Freeze the circuit and just query for different initial states then you can use the `Circuit.compile()` method which will improve evaluation performance\n",
    "\n",
    "|0> ----- X ----- |1>\n",
    "\n",
    "|0> ----- X ----- |1>"
   ]
  },
  {
   "cell_type": "code",
   "execution_count": 6,
   "metadata": {},
   "outputs": [],
   "source": [
    "# !pip install qibo tensorflow\n",
    "\n",
    "# !pip uninstall qibo tensorflow"
   ]
  },
  {
   "cell_type": "code",
   "execution_count": 4,
   "metadata": {},
   "outputs": [],
   "source": [
    "import numpy as np\n",
    "from qibo import Circuit, gates"
   ]
  },
  {
   "cell_type": "code",
   "execution_count": 18,
   "metadata": {},
   "outputs": [
    {
     "name": "stderr",
     "output_type": "stream",
     "text": [
      "[Qibo 0.2.1|INFO|2023-10-22 15:03:18]: Using tensorflow backend on /device:CPU:0\n"
     ]
    },
    {
     "name": "stdout",
     "output_type": "stream",
     "text": [
      "(1.5+0j)|00> + (1.5+0j)|01> + (1.5+0j)|10> + (1.48859+0.18463j)|11> \n",
      "Norm= 3.0\n"
     ]
    }
   ],
   "source": [
    "import qibo\n",
    "\n",
    "# This can be beneficial if you're going to utilize TensorFlow's capabilities, such as automatic differentiation, in your quantum simulations.\n",
    "qibo.set_backend(\"tensorflow\")\n",
    "\n",
    "c = Circuit(2)\n",
    "c.add(gates.X(0))\n",
    "c.add(gates.X(1))\n",
    "c.add(gates.CU1(0, 1, 0.1234))\n",
    "c.compile()\n",
    "\n",
    "# For a specific initial state:\n",
    "init_state = np.ones(4) / 2.0 + 1\n",
    "norm = np.linalg.norm(init_state)\n",
    "print(c(init_state), '\\nNorm=',norm)"
   ]
  },
  {
   "cell_type": "markdown",
   "metadata": {},
   "source": [
    "For the first state:\n",
    "\n",
    "$|\\psi_i\\rangle = \\frac{1}{2}(|00\\rangle + |01\\rangle + |10\\rangle + |11\\rangle)$\n",
    "\n",
    "$CU1|X\\otimes X|\\psi_i\\rangle = \\frac{1}{2}(\\exp[\\theta]|11\\rangle + |10\\rangle + |01\\rangle + |00\\rangle)$\n",
    "\n",
    "with $\\theta = 0.1234$\n",
    "\n",
    "Let's check the output fot the state $|11\\rangle$:"
   ]
  },
  {
   "cell_type": "code",
   "execution_count": 26,
   "metadata": {},
   "outputs": [
    {
     "data": {
      "text/plain": [
       "(1.4885938150573366+0.1846305873170644j)"
      ]
     },
     "execution_count": 26,
     "metadata": {},
     "output_type": "execute_result"
    }
   ],
   "source": [
    "th=0.1234\n",
    "\n",
    "3/2*(np.cos(th) + np.sin(th)*1j)"
   ]
  },
  {
   "cell_type": "markdown",
   "metadata": {},
   "source": [
    "For 100 different initial states:\n",
    "\n",
    "q0 ---X-------o---\n",
    "\n",
    "               |\n",
    "\n",
    "q1 ---X-------•---"
   ]
  },
  {
   "cell_type": "code",
   "execution_count": 27,
   "metadata": {},
   "outputs": [
    {
     "name": "stdout",
     "output_type": "stream",
     "text": [
      "i= 0 : (0.5+0j)|00> + (0.5+0j)|01> + (0.5+0j)|10> + (0.4962+0.06154j)|11> \n",
      "  Norm= 1.0\n",
      "i= 1 : (1.5+0j)|00> + (1.5+0j)|01> + (1.5+0j)|10> + (1.48859+0.18463j)|11> \n",
      "  Norm= 3.0\n",
      "i= 2 : (2.5+0j)|00> + (2.5+0j)|01> + (2.5+0j)|10> + (2.48099+0.30772j)|11> \n",
      "  Norm= 5.0\n",
      "i= 3 : (3.5+0j)|00> + (3.5+0j)|01> + (3.5+0j)|10> + (3.47339+0.4308j)|11> \n",
      "  Norm= 7.0\n",
      "i= 4 : (4.5+0j)|00> + (4.5+0j)|01> + (4.5+0j)|10> + (4.46578+0.55389j)|11> \n",
      "  Norm= 9.0\n",
      "i= 5 : (5.5+0j)|00> + (5.5+0j)|01> + (5.5+0j)|10> + (5.45818+0.67698j)|11> \n",
      "  Norm= 11.0\n",
      "i= 6 : (6.5+0j)|00> + (6.5+0j)|01> + (6.5+0j)|10> + (6.45057+0.80007j)|11> \n",
      "  Norm= 13.0\n",
      "i= 7 : (7.5+0j)|00> + (7.5+0j)|01> + (7.5+0j)|10> + (7.44297+0.92315j)|11> \n",
      "  Norm= 15.0\n",
      "i= 8 : (8.5+0j)|00> + (8.5+0j)|01> + (8.5+0j)|10> + (8.43536+1.04624j)|11> \n",
      "  Norm= 17.0\n",
      "i= 9 : (9.5+0j)|00> + (9.5+0j)|01> + (9.5+0j)|10> + (9.42776+1.16933j)|11> \n",
      "  Norm= 19.0\n",
      "i= 10 : (10.5+0j)|00> + (10.5+0j)|01> + (10.5+0j)|10> + (10.42016+1.29241j)|11> \n",
      "  Norm= 21.0\n",
      "i= 11 : (11.5+0j)|00> + (11.5+0j)|01> + (11.5+0j)|10> + (11.41255+1.4155j)|11> \n",
      "  Norm= 23.0\n",
      "i= 12 : (12.5+0j)|00> + (12.5+0j)|01> + (12.5+0j)|10> + (12.40495+1.53859j)|11> \n",
      "  Norm= 25.0\n",
      "i= 13 : (13.5+0j)|00> + (13.5+0j)|01> + (13.5+0j)|10> + (13.39734+1.66168j)|11> \n",
      "  Norm= 27.0\n",
      "i= 14 : (14.5+0j)|00> + (14.5+0j)|01> + (14.5+0j)|10> + (14.38974+1.78476j)|11> \n",
      "  Norm= 29.0\n",
      "i= 15 : (15.5+0j)|00> + (15.5+0j)|01> + (15.5+0j)|10> + (15.38214+1.90785j)|11> \n",
      "  Norm= 31.0\n",
      "i= 16 : (16.5+0j)|00> + (16.5+0j)|01> + (16.5+0j)|10> + (16.37453+2.03094j)|11> \n",
      "  Norm= 33.0\n",
      "i= 17 : (17.5+0j)|00> + (17.5+0j)|01> + (17.5+0j)|10> + (17.36693+2.15402j)|11> \n",
      "  Norm= 35.0\n",
      "i= 18 : (18.5+0j)|00> + (18.5+0j)|01> + (18.5+0j)|10> + (18.35932+2.27711j)|11> \n",
      "  Norm= 37.0\n",
      "i= 19 : (19.5+0j)|00> + (19.5+0j)|01> + (19.5+0j)|10> + (19.35172+2.4002j)|11> \n",
      "  Norm= 39.0\n",
      "i= 20 : (20.5+0j)|00> + (20.5+0j)|01> + (20.5+0j)|10> + (20.34412+2.52328j)|11> \n",
      "  Norm= 41.0\n",
      "i= 21 : (21.5+0j)|00> + (21.5+0j)|01> + (21.5+0j)|10> + (21.33651+2.64637j)|11> \n",
      "  Norm= 43.0\n",
      "i= 22 : (22.5+0j)|00> + (22.5+0j)|01> + (22.5+0j)|10> + (22.32891+2.76946j)|11> \n",
      "  Norm= 45.0\n",
      "i= 23 : (23.5+0j)|00> + (23.5+0j)|01> + (23.5+0j)|10> + (23.3213+2.89255j)|11> \n",
      "  Norm= 47.0\n",
      "i= 24 : (24.5+0j)|00> + (24.5+0j)|01> + (24.5+0j)|10> + (24.3137+3.01563j)|11> \n",
      "  Norm= 49.0\n",
      "i= 25 : (25.5+0j)|00> + (25.5+0j)|01> + (25.5+0j)|10> + (25.30609+3.13872j)|11> \n",
      "  Norm= 51.0\n",
      "i= 26 : (26.5+0j)|00> + (26.5+0j)|01> + (26.5+0j)|10> + (26.29849+3.26181j)|11> \n",
      "  Norm= 53.0\n",
      "i= 27 : (27.5+0j)|00> + (27.5+0j)|01> + (27.5+0j)|10> + (27.29089+3.38489j)|11> \n",
      "  Norm= 55.0\n",
      "i= 28 : (28.5+0j)|00> + (28.5+0j)|01> + (28.5+0j)|10> + (28.28328+3.50798j)|11> \n",
      "  Norm= 57.0\n",
      "i= 29 : (29.5+0j)|00> + (29.5+0j)|01> + (29.5+0j)|10> + (29.27568+3.63107j)|11> \n",
      "  Norm= 59.0\n",
      "i= 30 : (30.5+0j)|00> + (30.5+0j)|01> + (30.5+0j)|10> + (30.26807+3.75416j)|11> \n",
      "  Norm= 61.0\n",
      "i= 31 : (31.5+0j)|00> + (31.5+0j)|01> + (31.5+0j)|10> + (31.26047+3.87724j)|11> \n",
      "  Norm= 63.0\n",
      "i= 32 : (32.5+0j)|00> + (32.5+0j)|01> + (32.5+0j)|10> + (32.25287+4.00033j)|11> \n",
      "  Norm= 65.0\n",
      "i= 33 : (33.5+0j)|00> + (33.5+0j)|01> + (33.5+0j)|10> + (33.24526+4.12342j)|11> \n",
      "  Norm= 67.0\n",
      "i= 34 : (34.5+0j)|00> + (34.5+0j)|01> + (34.5+0j)|10> + (34.23766+4.2465j)|11> \n",
      "  Norm= 69.0\n",
      "i= 35 : (35.5+0j)|00> + (35.5+0j)|01> + (35.5+0j)|10> + (35.23005+4.36959j)|11> \n",
      "  Norm= 71.0\n",
      "i= 36 : (36.5+0j)|00> + (36.5+0j)|01> + (36.5+0j)|10> + (36.22245+4.49268j)|11> \n",
      "  Norm= 73.0\n",
      "i= 37 : (37.5+0j)|00> + (37.5+0j)|01> + (37.5+0j)|10> + (37.21485+4.61576j)|11> \n",
      "  Norm= 75.0\n",
      "i= 38 : (38.5+0j)|00> + (38.5+0j)|01> + (38.5+0j)|10> + (38.20724+4.73885j)|11> \n",
      "  Norm= 77.0\n",
      "i= 39 : (39.5+0j)|00> + (39.5+0j)|01> + (39.5+0j)|10> + (39.19964+4.86194j)|11> \n",
      "  Norm= 79.0\n",
      "i= 40 : (40.5+0j)|00> + (40.5+0j)|01> + (40.5+0j)|10> + (40.19203+4.98503j)|11> \n",
      "  Norm= 81.0\n",
      "i= 41 : (41.5+0j)|00> + (41.5+0j)|01> + (41.5+0j)|10> + (41.18443+5.10811j)|11> \n",
      "  Norm= 83.0\n",
      "i= 42 : (42.5+0j)|00> + (42.5+0j)|01> + (42.5+0j)|10> + (42.17682+5.2312j)|11> \n",
      "  Norm= 85.0\n",
      "i= 43 : (43.5+0j)|00> + (43.5+0j)|01> + (43.5+0j)|10> + (43.16922+5.35429j)|11> \n",
      "  Norm= 87.0\n",
      "i= 44 : (44.5+0j)|00> + (44.5+0j)|01> + (44.5+0j)|10> + (44.16162+5.47737j)|11> \n",
      "  Norm= 89.0\n",
      "i= 45 : (45.5+0j)|00> + (45.5+0j)|01> + (45.5+0j)|10> + (45.15401+5.60046j)|11> \n",
      "  Norm= 91.0\n",
      "i= 46 : (46.5+0j)|00> + (46.5+0j)|01> + (46.5+0j)|10> + (46.14641+5.72355j)|11> \n",
      "  Norm= 93.0\n",
      "i= 47 : (47.5+0j)|00> + (47.5+0j)|01> + (47.5+0j)|10> + (47.1388+5.84664j)|11> \n",
      "  Norm= 95.0\n",
      "i= 48 : (48.5+0j)|00> + (48.5+0j)|01> + (48.5+0j)|10> + (48.1312+5.96972j)|11> \n",
      "  Norm= 97.0\n",
      "i= 49 : (49.5+0j)|00> + (49.5+0j)|01> + (49.5+0j)|10> + (49.1236+6.09281j)|11> \n",
      "  Norm= 99.0\n",
      "i= 50 : (50.5+0j)|00> + (50.5+0j)|01> + (50.5+0j)|10> + (50.11599+6.2159j)|11> \n",
      "  Norm= 101.0\n",
      "i= 51 : (51.5+0j)|00> + (51.5+0j)|01> + (51.5+0j)|10> + (51.10839+6.33898j)|11> \n",
      "  Norm= 103.0\n",
      "i= 52 : (52.5+0j)|00> + (52.5+0j)|01> + (52.5+0j)|10> + (52.10078+6.46207j)|11> \n",
      "  Norm= 105.0\n",
      "i= 53 : (53.5+0j)|00> + (53.5+0j)|01> + (53.5+0j)|10> + (53.09318+6.58516j)|11> \n",
      "  Norm= 107.0\n",
      "i= 54 : (54.5+0j)|00> + (54.5+0j)|01> + (54.5+0j)|10> + (54.08558+6.70824j)|11> \n",
      "  Norm= 109.0\n",
      "i= 55 : (55.5+0j)|00> + (55.5+0j)|01> + (55.5+0j)|10> + (55.07797+6.83133j)|11> \n",
      "  Norm= 111.0\n",
      "i= 56 : (56.5+0j)|00> + (56.5+0j)|01> + (56.5+0j)|10> + (56.07037+6.95442j)|11> \n",
      "  Norm= 113.0\n",
      "i= 57 : (57.5+0j)|00> + (57.5+0j)|01> + (57.5+0j)|10> + (57.06276+7.07751j)|11> \n",
      "  Norm= 115.0\n",
      "i= 58 : (58.5+0j)|00> + (58.5+0j)|01> + (58.5+0j)|10> + (58.05516+7.20059j)|11> \n",
      "  Norm= 117.0\n",
      "i= 59 : (59.5+0j)|00> + (59.5+0j)|01> + (59.5+0j)|10> + (59.04755+7.32368j)|11> \n",
      "  Norm= 119.0\n",
      "i= 60 : (60.5+0j)|00> + (60.5+0j)|01> + (60.5+0j)|10> + (60.03995+7.44677j)|11> \n",
      "  Norm= 121.0\n",
      "i= 61 : (61.5+0j)|00> + (61.5+0j)|01> + (61.5+0j)|10> + (61.03235+7.56985j)|11> \n",
      "  Norm= 123.0\n",
      "i= 62 : (62.5+0j)|00> + (62.5+0j)|01> + (62.5+0j)|10> + (62.02474+7.69294j)|11> \n",
      "  Norm= 125.0\n",
      "i= 63 : (63.5+0j)|00> + (63.5+0j)|01> + (63.5+0j)|10> + (63.01714+7.81603j)|11> \n",
      "  Norm= 127.0\n",
      "i= 64 : (64.5+0j)|00> + (64.5+0j)|01> + (64.5+0j)|10> + (64.00953+7.93912j)|11> \n",
      "  Norm= 129.0\n",
      "i= 65 : (65.5+0j)|00> + (65.5+0j)|01> + (65.5+0j)|10> + (65.00193+8.0622j)|11> \n",
      "  Norm= 131.0\n",
      "i= 66 : (66.5+0j)|00> + (66.5+0j)|01> + (66.5+0j)|10> + (65.99433+8.18529j)|11> \n",
      "  Norm= 133.0\n",
      "i= 67 : (67.5+0j)|00> + (67.5+0j)|01> + (67.5+0j)|10> + (66.98672+8.30838j)|11> \n",
      "  Norm= 135.0\n",
      "i= 68 : (68.5+0j)|00> + (68.5+0j)|01> + (68.5+0j)|10> + (67.97912+8.43146j)|11> \n",
      "  Norm= 137.0\n",
      "i= 69 : (69.5+0j)|00> + (69.5+0j)|01> + (69.5+0j)|10> + (68.97151+8.55455j)|11> \n",
      "  Norm= 139.0\n",
      "i= 70 : (70.5+0j)|00> + (70.5+0j)|01> + (70.5+0j)|10> + (69.96391+8.67764j)|11> \n",
      "  Norm= 141.0\n",
      "i= 71 : (71.5+0j)|00> + (71.5+0j)|01> + (71.5+0j)|10> + (70.95631+8.80072j)|11> \n",
      "  Norm= 143.0\n",
      "i= 72 : (72.5+0j)|00> + (72.5+0j)|01> + (72.5+0j)|10> + (71.9487+8.92381j)|11> \n",
      "  Norm= 145.0\n",
      "i= 73 : (73.5+0j)|00> + (73.5+0j)|01> + (73.5+0j)|10> + (72.9411+9.0469j)|11> \n",
      "  Norm= 147.0\n",
      "i= 74 : (74.5+0j)|00> + (74.5+0j)|01> + (74.5+0j)|10> + (73.93349+9.16999j)|11> \n",
      "  Norm= 149.0\n",
      "i= 75 : (75.5+0j)|00> + (75.5+0j)|01> + (75.5+0j)|10> + (74.92589+9.29307j)|11> \n",
      "  Norm= 151.0\n",
      "i= 76 : (76.5+0j)|00> + (76.5+0j)|01> + (76.5+0j)|10> + (75.91828+9.41616j)|11> \n",
      "  Norm= 153.0\n",
      "i= 77 : (77.5+0j)|00> + (77.5+0j)|01> + (77.5+0j)|10> + (76.91068+9.53925j)|11> \n",
      "  Norm= 155.0\n",
      "i= 78 : (78.5+0j)|00> + (78.5+0j)|01> + (78.5+0j)|10> + (77.90308+9.66233j)|11> \n",
      "  Norm= 157.0\n",
      "i= 79 : (79.5+0j)|00> + (79.5+0j)|01> + (79.5+0j)|10> + (78.89547+9.78542j)|11> \n",
      "  Norm= 159.0\n",
      "i= 80 : (80.5+0j)|00> + (80.5+0j)|01> + (80.5+0j)|10> + (79.88787+9.90851j)|11> \n",
      "  Norm= 161.0\n",
      "i= 81 : (81.5+0j)|00> + (81.5+0j)|01> + (81.5+0j)|10> + (80.88026+10.0316j)|11> \n",
      "  Norm= 163.0\n",
      "i= 82 : (82.5+0j)|00> + (82.5+0j)|01> + (82.5+0j)|10> + (81.87266+10.15468j)|11> \n",
      "  Norm= 165.0\n",
      "i= 83 : (83.5+0j)|00> + (83.5+0j)|01> + (83.5+0j)|10> + (82.86506+10.27777j)|11> \n",
      "  Norm= 167.0\n",
      "i= 84 : (84.5+0j)|00> + (84.5+0j)|01> + (84.5+0j)|10> + (83.85745+10.40086j)|11> \n",
      "  Norm= 169.0\n",
      "i= 85 : (85.5+0j)|00> + (85.5+0j)|01> + (85.5+0j)|10> + (84.84985+10.52394j)|11> \n",
      "  Norm= 171.0\n",
      "i= 86 : (86.5+0j)|00> + (86.5+0j)|01> + (86.5+0j)|10> + (85.84224+10.64703j)|11> \n",
      "  Norm= 173.0\n",
      "i= 87 : (87.5+0j)|00> + (87.5+0j)|01> + (87.5+0j)|10> + (86.83464+10.77012j)|11> \n",
      "  Norm= 175.0\n",
      "i= 88 : (88.5+0j)|00> + (88.5+0j)|01> + (88.5+0j)|10> + (87.82704+10.8932j)|11> \n",
      "  Norm= 177.0\n",
      "i= 89 : (89.5+0j)|00> + (89.5+0j)|01> + (89.5+0j)|10> + (88.81943+11.01629j)|11> \n",
      "  Norm= 179.0\n",
      "i= 90 : (90.5+0j)|00> + (90.5+0j)|01> + (90.5+0j)|10> + (89.81183+11.13938j)|11> \n",
      "  Norm= 181.0\n",
      "i= 91 : (91.5+0j)|00> + (91.5+0j)|01> + (91.5+0j)|10> + (90.80422+11.26247j)|11> \n",
      "  Norm= 183.0\n",
      "i= 92 : (92.5+0j)|00> + (92.5+0j)|01> + (92.5+0j)|10> + (91.79662+11.38555j)|11> \n",
      "  Norm= 185.0\n",
      "i= 93 : (93.5+0j)|00> + (93.5+0j)|01> + (93.5+0j)|10> + (92.78901+11.50864j)|11> \n",
      "  Norm= 187.0\n",
      "i= 94 : (94.5+0j)|00> + (94.5+0j)|01> + (94.5+0j)|10> + (93.78141+11.63173j)|11> \n",
      "  Norm= 189.0\n",
      "i= 95 : (95.5+0j)|00> + (95.5+0j)|01> + (95.5+0j)|10> + (94.77381+11.75481j)|11> \n",
      "  Norm= 191.0\n",
      "i= 96 : (96.5+0j)|00> + (96.5+0j)|01> + (96.5+0j)|10> + (95.7662+11.8779j)|11> \n",
      "  Norm= 193.0\n",
      "i= 97 : (97.5+0j)|00> + (97.5+0j)|01> + (97.5+0j)|10> + (96.7586+12.00099j)|11> \n",
      "  Norm= 195.0\n",
      "i= 98 : (98.5+0j)|00> + (98.5+0j)|01> + (98.5+0j)|10> + (97.75099+12.12408j)|11> \n",
      "  Norm= 197.0\n",
      "i= 99 : (99.5+0j)|00> + (99.5+0j)|01> + (99.5+0j)|10> + (98.74339+12.24716j)|11> \n",
      "  Norm= 199.0\n"
     ]
    }
   ],
   "source": [
    "c = Circuit(2)\n",
    "c.add(gates.X(0))\n",
    "c.add(gates.X(1))\n",
    "c.add(gates.CU1(0, 1, 0.1234))\n",
    "c.compile()\n",
    "\n",
    "for i in range(100):\n",
    "    init_state = np.ones(4) / 2.0 + i\n",
    "    norm = np.linalg.norm(init_state)\n",
    "    print('i=',i,':',c(init_state),'\\n  Norm=', norm)"
   ]
  },
  {
   "cell_type": "markdown",
   "metadata": {},
   "source": [
    "## Circuir Summary\n",
    "\n",
    "\n",
    "q0 ---H-------------o------------------------•----------\n",
    "\n",
    "                    |                 |\n",
    "\n",
    "q1 ---H--------------|-------o----------------•-------\n",
    "\n",
    "                    |     |           |\n",
    "\n",
    "q2 ------------------X-------X-------H-------X-------"
   ]
  },
  {
   "cell_type": "code",
   "execution_count": 28,
   "metadata": {},
   "outputs": [
    {
     "name": "stdout",
     "output_type": "stream",
     "text": [
      "Circuit depth = 5\n",
      "Total number of gates = 6\n",
      "Number of qubits = 3\n",
      "Most common gates:\n",
      "h: 3\n",
      "cx: 2\n",
      "ccx: 1\n"
     ]
    }
   ],
   "source": [
    "c = Circuit(3)\n",
    "c.add(gates.H(0))\n",
    "c.add(gates.H(1))\n",
    "c.add(gates.CNOT(0, 2))\n",
    "c.add(gates.CNOT(1, 2))\n",
    "c.add(gates.H(2))\n",
    "c.add(gates.TOFFOLI(0, 1, 2))\n",
    "print(c.summary())"
   ]
  },
  {
   "cell_type": "markdown",
   "metadata": {},
   "source": [
    "Why `Circuit depth = 5`?\n",
    "\n",
    "**Try to solve this!**"
   ]
  },
  {
   "cell_type": "code",
   "execution_count": 29,
   "metadata": {},
   "outputs": [
    {
     "data": {
      "text/plain": [
       "[('h', 3), ('cx', 2), ('ccx', 1)]"
      ]
     },
     "execution_count": 29,
     "metadata": {},
     "output_type": "execute_result"
    }
   ],
   "source": [
    "common_gates = c.gate_names.most_common()\n",
    "common_gates"
   ]
  },
  {
   "cell_type": "code",
   "execution_count": 30,
   "metadata": {},
   "outputs": [
    {
     "data": {
      "text/plain": [
       "'h'"
      ]
     },
     "execution_count": 30,
     "metadata": {},
     "output_type": "execute_result"
    }
   ],
   "source": [
    "most_common_gate = common_gates[0][0]\n",
    "most_common_gate"
   ]
  },
  {
   "cell_type": "code",
   "execution_count": 31,
   "metadata": {},
   "outputs": [
    {
     "data": {
      "text/plain": [
       "[(0, <qibo.gates.gates.H at 0x1d9627ee410>),\n",
       " (1, <qibo.gates.gates.H at 0x1d962766010>),\n",
       " (4, <qibo.gates.gates.H at 0x1d96276e690>)]"
      ]
     },
     "execution_count": 31,
     "metadata": {},
     "output_type": "execute_result"
    }
   ],
   "source": [
    "all_h_gates = c.gates_of_type(gates.H)\n",
    "all_h_gates"
   ]
  },
  {
   "cell_type": "markdown",
   "metadata": {},
   "source": [
    "## Meassurements\n",
    "\n",
    "Add 2 qubits in |0>\n",
    "\n",
    "**Circuit:**\n",
    "\n",
    "$|0\\rangle$ ----- X ----- $|1\\rangle$\n",
    "\n",
    "$|0\\rangle$ ------------- $|0\\rangle$"
   ]
  },
  {
   "cell_type": "code",
   "execution_count": 1,
   "metadata": {},
   "outputs": [
    {
     "name": "stderr",
     "output_type": "stream",
     "text": [
      "[Qibo 0.2.1|INFO|2023-10-22 17:51:39]: Using tensorflow backend on /device:CPU:0\n"
     ]
    }
   ],
   "source": [
    "import numpy as np\n",
    "from qibo import Circuit, gates"
   ]
  },
  {
   "cell_type": "code",
   "execution_count": 41,
   "metadata": {},
   "outputs": [
    {
     "name": "stdout",
     "output_type": "stream",
     "text": [
      "(1+0j)|10>\n"
     ]
    }
   ],
   "source": [
    "c = Circuit(2)\n",
    "c.add(gates.X(0))\n",
    "\n",
    "# Add a measurement register on both qubits\n",
    "c.add(gates.M(0, 1))\n",
    "\n",
    "# Execute the circuit with the default initial state |00>.\n",
    "result = c(nshots=100)\n",
    "\n",
    "print(result)"
   ]
  },
  {
   "cell_type": "code",
   "execution_count": 3,
   "metadata": {},
   "outputs": [
    {
     "data": {
      "text/plain": [
       "array([[1, 0],\n",
       "       [1, 0],\n",
       "       [1, 0],\n",
       "       [1, 0],\n",
       "       [1, 0],\n",
       "       [1, 0],\n",
       "       [1, 0],\n",
       "       [1, 0],\n",
       "       [1, 0],\n",
       "       [1, 0],\n",
       "       [1, 0],\n",
       "       [1, 0],\n",
       "       [1, 0],\n",
       "       [1, 0],\n",
       "       [1, 0],\n",
       "       [1, 0],\n",
       "       [1, 0],\n",
       "       [1, 0],\n",
       "       [1, 0],\n",
       "       [1, 0],\n",
       "       [1, 0],\n",
       "       [1, 0],\n",
       "       [1, 0],\n",
       "       [1, 0],\n",
       "       [1, 0],\n",
       "       [1, 0],\n",
       "       [1, 0],\n",
       "       [1, 0],\n",
       "       [1, 0],\n",
       "       [1, 0],\n",
       "       [1, 0],\n",
       "       [1, 0],\n",
       "       [1, 0],\n",
       "       [1, 0],\n",
       "       [1, 0],\n",
       "       [1, 0],\n",
       "       [1, 0],\n",
       "       [1, 0],\n",
       "       [1, 0],\n",
       "       [1, 0],\n",
       "       [1, 0],\n",
       "       [1, 0],\n",
       "       [1, 0],\n",
       "       [1, 0],\n",
       "       [1, 0],\n",
       "       [1, 0],\n",
       "       [1, 0],\n",
       "       [1, 0],\n",
       "       [1, 0],\n",
       "       [1, 0],\n",
       "       [1, 0],\n",
       "       [1, 0],\n",
       "       [1, 0],\n",
       "       [1, 0],\n",
       "       [1, 0],\n",
       "       [1, 0],\n",
       "       [1, 0],\n",
       "       [1, 0],\n",
       "       [1, 0],\n",
       "       [1, 0],\n",
       "       [1, 0],\n",
       "       [1, 0],\n",
       "       [1, 0],\n",
       "       [1, 0],\n",
       "       [1, 0],\n",
       "       [1, 0],\n",
       "       [1, 0],\n",
       "       [1, 0],\n",
       "       [1, 0],\n",
       "       [1, 0],\n",
       "       [1, 0],\n",
       "       [1, 0],\n",
       "       [1, 0],\n",
       "       [1, 0],\n",
       "       [1, 0],\n",
       "       [1, 0],\n",
       "       [1, 0],\n",
       "       [1, 0],\n",
       "       [1, 0],\n",
       "       [1, 0],\n",
       "       [1, 0],\n",
       "       [1, 0],\n",
       "       [1, 0],\n",
       "       [1, 0],\n",
       "       [1, 0],\n",
       "       [1, 0],\n",
       "       [1, 0],\n",
       "       [1, 0],\n",
       "       [1, 0],\n",
       "       [1, 0],\n",
       "       [1, 0],\n",
       "       [1, 0],\n",
       "       [1, 0],\n",
       "       [1, 0],\n",
       "       [1, 0],\n",
       "       [1, 0],\n",
       "       [1, 0],\n",
       "       [1, 0],\n",
       "       [1, 0],\n",
       "       [1, 0]])"
      ]
     },
     "execution_count": 3,
     "metadata": {},
     "output_type": "execute_result"
    }
   ],
   "source": [
    "result.samples(binary=True)"
   ]
  },
  {
   "cell_type": "markdown",
   "metadata": {},
   "source": [
    "**In binary form:**\n",
    "\n",
    "Given a binary number with digits $( b_n, b_{n-1}, \\ldots, b_2, b_1, b_0 )$, with $b=0$ or $1$ the conversion to its decimal representation $D$ is:\n",
    "\n",
    "$ D = b_0 \\times 2^0 + b_1 \\times 2^1 + b_2 \\times 2^2 + \\ldots + b_n \\times 2^n $\n",
    "\n",
    "<br>\n",
    "\n",
    "For example, for the binary number $ 1011 $:\n",
    "\n",
    "$ D = 1 \\times 2^0 + 1 \\times 2^1 + 0 \\times 2^2 + 1 \\times 2^3 $\n",
    "$ = 1 + 2 + 0 + 8 = 11 $\n",
    "\n",
    "<br>\n",
    "\n",
    "For the state $|10\\rangle$, $b_1=1$ and $b_0=0$:\n",
    "\n",
    "$ D = 0 \\times 2^0 + 1 \\times 2^1 = 2$"
   ]
  },
  {
   "cell_type": "code",
   "execution_count": 4,
   "metadata": {},
   "outputs": [
    {
     "data": {
      "text/plain": [
       "<tf.Tensor: shape=(100,), dtype=int32, numpy=\n",
       "array([2, 2, 2, 2, 2, 2, 2, 2, 2, 2, 2, 2, 2, 2, 2, 2, 2, 2, 2, 2, 2, 2,\n",
       "       2, 2, 2, 2, 2, 2, 2, 2, 2, 2, 2, 2, 2, 2, 2, 2, 2, 2, 2, 2, 2, 2,\n",
       "       2, 2, 2, 2, 2, 2, 2, 2, 2, 2, 2, 2, 2, 2, 2, 2, 2, 2, 2, 2, 2, 2,\n",
       "       2, 2, 2, 2, 2, 2, 2, 2, 2, 2, 2, 2, 2, 2, 2, 2, 2, 2, 2, 2, 2, 2,\n",
       "       2, 2, 2, 2, 2, 2, 2, 2, 2, 2, 2, 2])>"
      ]
     },
     "execution_count": 4,
     "metadata": {},
     "output_type": "execute_result"
    }
   ],
   "source": [
    "result.samples(binary=False)"
   ]
  },
  {
   "cell_type": "code",
   "execution_count": 5,
   "metadata": {},
   "outputs": [
    {
     "name": "stdout",
     "output_type": "stream",
     "text": [
      "Counter({'10': 100})\n",
      "Counter({2: 100})\n"
     ]
    }
   ],
   "source": [
    "print(result.frequencies(binary=True))\n",
    "print(result.frequencies(binary=False))"
   ]
  },
  {
   "cell_type": "markdown",
   "metadata": {},
   "source": [
    "### Collect measurement results grouped according to registers\n",
    "\n",
    "**Circuit:**\n",
    "\n",
    "$|0\\rangle ------ X ------ |1\\rangle$\n",
    "\n",
    "$|0\\rangle ------------- |0\\rangle$\n",
    "\n",
    "$|0\\rangle ------------- |0\\rangle$\n",
    "\n",
    "$|0\\rangle ------------- |0\\rangle$\n",
    "\n",
    "$|0\\rangle ------X------  |1\\rangle$"
   ]
  },
  {
   "cell_type": "code",
   "execution_count": 46,
   "metadata": {},
   "outputs": [
    {
     "name": "stdout",
     "output_type": "stream",
     "text": [
      "(1+0j)|10001>\n"
     ]
    }
   ],
   "source": [
    "c = Circuit(5)\n",
    "c.add(gates.X(0))\n",
    "c.add(gates.X(4))\n",
    "c.add(gates.M(0, 1, register_name=\"A\"))\n",
    "c.add(gates.M(3, 4, register_name=\"B\"))\n",
    "result = c(nshots=100)\n",
    "\n",
    "print(result)"
   ]
  },
  {
   "cell_type": "markdown",
   "metadata": {},
   "source": [
    "Register **A** meassures $|10\\rangle$,\n",
    "\n",
    "$\\qquad D=2$ (100-times)\n",
    "\n",
    "Register **B** meassures $|01\\rangle$,\n",
    "\n",
    "$\\qquad D=b_0*2^0+b_1*2^1=1+0*2=1$ (100-times)"
   ]
  },
  {
   "cell_type": "code",
   "execution_count": 7,
   "metadata": {},
   "outputs": [
    {
     "data": {
      "text/plain": [
       "{'A': <tf.Tensor: shape=(100,), dtype=int32, numpy=\n",
       " array([2, 2, 2, 2, 2, 2, 2, 2, 2, 2, 2, 2, 2, 2, 2, 2, 2, 2, 2, 2, 2, 2,\n",
       "        2, 2, 2, 2, 2, 2, 2, 2, 2, 2, 2, 2, 2, 2, 2, 2, 2, 2, 2, 2, 2, 2,\n",
       "        2, 2, 2, 2, 2, 2, 2, 2, 2, 2, 2, 2, 2, 2, 2, 2, 2, 2, 2, 2, 2, 2,\n",
       "        2, 2, 2, 2, 2, 2, 2, 2, 2, 2, 2, 2, 2, 2, 2, 2, 2, 2, 2, 2, 2, 2,\n",
       "        2, 2, 2, 2, 2, 2, 2, 2, 2, 2, 2, 2])>,\n",
       " 'B': <tf.Tensor: shape=(100,), dtype=int32, numpy=\n",
       " array([1, 1, 1, 1, 1, 1, 1, 1, 1, 1, 1, 1, 1, 1, 1, 1, 1, 1, 1, 1, 1, 1,\n",
       "        1, 1, 1, 1, 1, 1, 1, 1, 1, 1, 1, 1, 1, 1, 1, 1, 1, 1, 1, 1, 1, 1,\n",
       "        1, 1, 1, 1, 1, 1, 1, 1, 1, 1, 1, 1, 1, 1, 1, 1, 1, 1, 1, 1, 1, 1,\n",
       "        1, 1, 1, 1, 1, 1, 1, 1, 1, 1, 1, 1, 1, 1, 1, 1, 1, 1, 1, 1, 1, 1,\n",
       "        1, 1, 1, 1, 1, 1, 1, 1, 1, 1, 1, 1])>}"
      ]
     },
     "execution_count": 7,
     "metadata": {},
     "output_type": "execute_result"
    }
   ],
   "source": [
    "result.samples(binary=False, registers=True)"
   ]
  },
  {
   "cell_type": "markdown",
   "metadata": {},
   "source": [
    "Not in binary:"
   ]
  },
  {
   "cell_type": "code",
   "execution_count": 8,
   "metadata": {},
   "outputs": [
    {
     "data": {
      "text/plain": [
       "{'A': Counter({'10': 100}), 'B': Counter({'01': 100})}"
      ]
     },
     "execution_count": 8,
     "metadata": {},
     "output_type": "execute_result"
    }
   ],
   "source": [
    "result.frequencies(binary=True, registers=True)"
   ]
  },
  {
   "cell_type": "markdown",
   "metadata": {},
   "source": [
    "Setting `registers=False` (default option) will ignore the registers "
   ]
  },
  {
   "cell_type": "code",
   "execution_count": 9,
   "metadata": {},
   "outputs": [
    {
     "name": "stdout",
     "output_type": "stream",
     "text": [
      "Counter({'1001': 100})\n",
      "Counter({'1001': 100})\n"
     ]
    }
   ],
   "source": [
    "# Both prints the same\n",
    "print(result.frequencies(binary=True, registers=False))\n",
    "print(result.frequencies(binary=True))"
   ]
  },
  {
   "cell_type": "markdown",
   "metadata": {},
   "source": [
    "### Define registers of multiple qubits\n",
    "\n",
    "**Circuit:**\n",
    "\n",
    "$|0\\rangle ------ X ------ |1\\rangle$\n",
    "\n",
    "$|0\\rangle ------------- |0\\rangle$\n",
    "\n",
    "$|0\\rangle ------------- |0\\rangle$\n",
    "\n",
    "$|0\\rangle ------------- |0\\rangle$\n",
    "\n",
    "$|0\\rangle ------X------  |1\\rangle$"
   ]
  },
  {
   "cell_type": "code",
   "execution_count": 51,
   "metadata": {},
   "outputs": [
    {
     "name": "stdout",
     "output_type": "stream",
     "text": [
      "q0: ─X─M─\n",
      "q1: ───M─\n",
      "q2: ───M─\n",
      "q3: ───|─\n",
      "q4: ─X─M─\n",
      "\n",
      "(1+0j)|10001>\n",
      "\n",
      "tf.Tensor(\n",
      "[0.+0.j 0.+0.j 0.+0.j 0.+0.j 0.+0.j 0.+0.j 0.+0.j 0.+0.j 0.+0.j 0.+0.j\n",
      " 0.+0.j 0.+0.j 0.+0.j 0.+0.j 0.+0.j 0.+0.j 0.+0.j 1.+0.j 0.+0.j 0.+0.j\n",
      " 0.+0.j 0.+0.j 0.+0.j 0.+0.j 0.+0.j 0.+0.j 0.+0.j 0.+0.j 0.+0.j 0.+0.j\n",
      " 0.+0.j 0.+0.j], shape=(32,), dtype=complex128)\n"
     ]
    }
   ],
   "source": [
    "c = Circuit(5)\n",
    "c.add(gates.X(0))\n",
    "c.add(gates.X(4))\n",
    "c.add(gates.M(*[0,1,2,4], register_name=\"A\"))\n",
    "result = c(nshots=100)\n",
    "\n",
    "# Draw the circuit:\n",
    "print(c.draw())\n",
    "print()\n",
    "\n",
    "# Prints final state (Dirac form)\n",
    "print(result)\n",
    "print()\n",
    "\n",
    "# Prints final state (matrix form)\n",
    "print(result.state())"
   ]
  },
  {
   "cell_type": "markdown",
   "metadata": {},
   "source": [
    "The final state vector is still accessible via `qibo.states.CircuitResult.state()`. \n",
    "Note that the state vector accessed this way corresponds to the state as if no measurements occurred, that is the state is not collapsed during the measurement.\n",
    "This is because **measurement gates are only used to sample bitstrings** and do not have any effect on the state vector.\n",
    "\n",
    "For applications that require the state vector to be collapsed during measurements, Below we will do it!\n",
    "\n",
    "<br>\n",
    "\n",
    "**Unmeasured qubits are ignored by the measurement objects.**\n",
    "\n",
    "$D(|q_0, q_1, q_2, q_4\\rangle=|1001\\rangle) = 1 + 1*2^3 = 9$"
   ]
  },
  {
   "cell_type": "code",
   "execution_count": 30,
   "metadata": {},
   "outputs": [
    {
     "name": "stdout",
     "output_type": "stream",
     "text": [
      "Counter({'1001': <tf.Tensor: shape=(), dtype=int64, numpy=100>})\n",
      "Counter({9: <tf.Tensor: shape=(), dtype=int64, numpy=100>})\n"
     ]
    }
   ],
   "source": [
    "print(result.frequencies(binary=True))\n",
    "print(result.frequencies(binary=False))"
   ]
  },
  {
   "cell_type": "markdown",
   "metadata": {},
   "source": [
    "**Also, the order that qubits appear in the results is defined by the order the user added the measurements and not the qubit ids.**"
   ]
  },
  {
   "cell_type": "code",
   "execution_count": 48,
   "metadata": {},
   "outputs": [
    {
     "name": "stdout",
     "output_type": "stream",
     "text": [
      "100000\n",
      "100000000\n"
     ]
    }
   ],
   "source": [
    "import qibo\n",
    "\n",
    "print(qibo.get_metropolis_threshold()) # prints 100000\n",
    "qibo.set_metropolis_threshold(int(1e8))\n",
    "print(qibo.get_metropolis_threshold()) # prints 10^8"
   ]
  },
  {
   "cell_type": "code",
   "execution_count": 55,
   "metadata": {},
   "outputs": [
    {
     "name": "stdout",
     "output_type": "stream",
     "text": [
      "q0: ─H─U1───x─\n",
      "q1: ───o──H─x─\n",
      "\n",
      "(0.5+0j)|00> + (0.5+0j)|01> + (0.5+0j)|10> + (0.5+0j)|11>\n"
     ]
    }
   ],
   "source": [
    "from qibo.models import QFT\n",
    "\n",
    "c = QFT(2)\n",
    "print(c.draw())\n",
    "print()\n",
    "print(c())"
   ]
  },
  {
   "cell_type": "code",
   "execution_count": null,
   "metadata": {},
   "outputs": [],
   "source": [
    "c = Circuit(2)\n",
    "c.add(gates.H(0))\n",
    "c.add(gates.X(4))\n",
    "c.add(gates.M(*[0,1,2,4], register_name=\"A\"))\n",
    "result = c(nshots=100)\n",
    "\n",
    "# Draw the circuit:\n",
    "print(c.draw())\n",
    "print()\n",
    "\n",
    "# Prints final state (Dirac form)\n",
    "print(result)\n",
    "print()\n",
    "\n",
    "# Prints final state (matrix form)\n",
    "print(result.state())"
   ]
  },
  {
   "cell_type": "markdown",
   "metadata": {},
   "source": [
    "For simulation precision see the final part:\n",
    "\n",
    "https://qibo.science/qibo/stable/code-examples/examples.html"
   ]
  },
  {
   "cell_type": "code",
   "execution_count": 56,
   "metadata": {},
   "outputs": [
    {
     "name": "stdout",
     "output_type": "stream",
     "text": [
      "q0: ─H─U1─U1─U1─U1───────────────────────────x───\n",
      "q1: ───o──|──|──|──H─U1─U1─U1────────────────|─x─\n",
      "q2: ──────o──|──|────o──|──|──H─U1─U1────────|─|─\n",
      "q3: ─────────o──|───────o──|────o──|──H─U1───|─x─\n",
      "q4: ────────────o──────────o───────o────o──H─x───\n"
     ]
    }
   ],
   "source": [
    "c = QFT(5)\n",
    "print(c.draw())"
   ]
  },
  {
   "cell_type": "markdown",
   "metadata": {},
   "source": [
    "    '''\n",
    "    q0: ─H─U1─U1─U1─U1───────────────────────────x───\n",
    "    q1: ───o──|──|──|──H─U1─U1─U1────────────────|─x─\n",
    "    q2: ──────o──|──|────o──|──|──H─U1─U1────────|─|─\n",
    "    q3: ─────────o──|───────o──|────o──|──H─U1───|─x─\n",
    "    q4: ────────────o──────────o───────o────o──H─x───\n",
    "    '''"
   ]
  }
 ],
 "metadata": {
  "kernelspec": {
   "display_name": "Quilimanjaro",
   "language": "python",
   "name": "python3"
  },
  "language_info": {
   "codemirror_mode": {
    "name": "ipython",
    "version": 3
   },
   "file_extension": ".py",
   "mimetype": "text/x-python",
   "name": "python",
   "nbconvert_exporter": "python",
   "pygments_lexer": "ipython3",
   "version": "3.11.5"
  }
 },
 "nbformat": 4,
 "nbformat_minor": 2
}
