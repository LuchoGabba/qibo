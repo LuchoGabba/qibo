{
  "cells": [
    {
      "cell_type": "markdown",
      "metadata": {
        "id": "dfwOIuffh95_"
      },
      "source": [
        "<a href=\"https://colab.research.google.com/github/LuchoGabba/qibo/blob/main/application_colab.ipynb\"> <img src='https://colab.research.google.com/assets/colab-badge.svg' /> </a>"
      ]
    },
    {
      "cell_type": "markdown",
      "metadata": {
        "id": "eeS37ab7h96C"
      },
      "source": [
        "# Talk from Stefano Carrazza\n",
        "\n",
        "Quantum simulation with a hardware acceleration, [arXiv:2009.01845](https://arxiv.org/abs/2009.01845).\n",
        "\n",
        "Follow this video: https://www.youtube.com/watch?v=Aoc4nLmplTE\n",
        "\n",
        "## Install Qibo"
      ]
    },
    {
      "cell_type": "code",
      "source": [
        "!pip install qibo"
      ],
      "metadata": {
        "colab": {
          "base_uri": "https://localhost:8080/"
        },
        "id": "JlCoXW5Qikkq",
        "outputId": "96e9f4a4-d5ce-46a7-957f-71ad82e5a403"
      },
      "execution_count": 3,
      "outputs": [
        {
          "output_type": "stream",
          "name": "stdout",
          "text": [
            "Collecting qibo\n",
            "  Downloading qibo-0.2.1-py3-none-any.whl (180 kB)\n",
            "\u001b[2K     \u001b[90m━━━━━━━━━━━━━━━━━━━━━━━━━━━━━━━━━━━━━━━━\u001b[0m \u001b[32m180.0/180.0 kB\u001b[0m \u001b[31m3.7 MB/s\u001b[0m eta \u001b[36m0:00:00\u001b[0m\n",
            "\u001b[?25hCollecting cma<4.0.0,>=3.3.0 (from qibo)\n",
            "  Downloading cma-3.3.0-py3-none-any.whl (260 kB)\n",
            "\u001b[2K     \u001b[90m━━━━━━━━━━━━━━━━━━━━━━━━━━━━━━━━━━━━━━━━\u001b[0m \u001b[32m260.7/260.7 kB\u001b[0m \u001b[31m16.6 MB/s\u001b[0m eta \u001b[36m0:00:00\u001b[0m\n",
            "\u001b[?25hRequirement already satisfied: joblib<2.0.0,>=1.2.0 in /usr/local/lib/python3.10/dist-packages (from qibo) (1.3.2)\n",
            "Requirement already satisfied: matplotlib<4.0.0,>=3.7.0 in /usr/local/lib/python3.10/dist-packages (from qibo) (3.7.1)\n",
            "Requirement already satisfied: psutil<6.0.0,>=5.9.4 in /usr/local/lib/python3.10/dist-packages (from qibo) (5.9.5)\n",
            "Requirement already satisfied: scipy<2.0.0,>=1.10.1 in /usr/local/lib/python3.10/dist-packages (from qibo) (1.11.3)\n",
            "Requirement already satisfied: sympy<2.0.0,>=1.11.1 in /usr/local/lib/python3.10/dist-packages (from qibo) (1.12)\n",
            "Requirement already satisfied: tabulate<0.10.0,>=0.9.0 in /usr/local/lib/python3.10/dist-packages (from qibo) (0.9.0)\n",
            "Requirement already satisfied: numpy in /usr/local/lib/python3.10/dist-packages (from cma<4.0.0,>=3.3.0->qibo) (1.23.5)\n",
            "Requirement already satisfied: contourpy>=1.0.1 in /usr/local/lib/python3.10/dist-packages (from matplotlib<4.0.0,>=3.7.0->qibo) (1.1.1)\n",
            "Requirement already satisfied: cycler>=0.10 in /usr/local/lib/python3.10/dist-packages (from matplotlib<4.0.0,>=3.7.0->qibo) (0.12.1)\n",
            "Requirement already satisfied: fonttools>=4.22.0 in /usr/local/lib/python3.10/dist-packages (from matplotlib<4.0.0,>=3.7.0->qibo) (4.43.1)\n",
            "Requirement already satisfied: kiwisolver>=1.0.1 in /usr/local/lib/python3.10/dist-packages (from matplotlib<4.0.0,>=3.7.0->qibo) (1.4.5)\n",
            "Requirement already satisfied: packaging>=20.0 in /usr/local/lib/python3.10/dist-packages (from matplotlib<4.0.0,>=3.7.0->qibo) (23.2)\n",
            "Requirement already satisfied: pillow>=6.2.0 in /usr/local/lib/python3.10/dist-packages (from matplotlib<4.0.0,>=3.7.0->qibo) (9.4.0)\n",
            "Requirement already satisfied: pyparsing>=2.3.1 in /usr/local/lib/python3.10/dist-packages (from matplotlib<4.0.0,>=3.7.0->qibo) (3.1.1)\n",
            "Requirement already satisfied: python-dateutil>=2.7 in /usr/local/lib/python3.10/dist-packages (from matplotlib<4.0.0,>=3.7.0->qibo) (2.8.2)\n",
            "Requirement already satisfied: mpmath>=0.19 in /usr/local/lib/python3.10/dist-packages (from sympy<2.0.0,>=1.11.1->qibo) (1.3.0)\n",
            "Requirement already satisfied: six>=1.5 in /usr/local/lib/python3.10/dist-packages (from python-dateutil>=2.7->matplotlib<4.0.0,>=3.7.0->qibo) (1.16.0)\n",
            "Installing collected packages: cma, qibo\n",
            "Successfully installed cma-3.3.0 qibo-0.2.1\n"
          ]
        }
      ]
    },
    {
      "cell_type": "code",
      "execution_count": null,
      "metadata": {
        "colab": {
          "base_uri": "https://localhost:8080/"
        },
        "id": "7P7OD34ah96D",
        "outputId": "17530a5b-6b4d-4298-b554-682ea66fff48"
      },
      "outputs": [
        {
          "output_type": "stream",
          "name": "stdout",
          "text": [
            "Sat Oct 28 23:12:23 2023       \n",
            "+-----------------------------------------------------------------------------+\n",
            "| NVIDIA-SMI 525.105.17   Driver Version: 525.105.17   CUDA Version: 12.0     |\n",
            "|-------------------------------+----------------------+----------------------+\n",
            "| GPU  Name        Persistence-M| Bus-Id        Disp.A | Volatile Uncorr. ECC |\n",
            "| Fan  Temp  Perf  Pwr:Usage/Cap|         Memory-Usage | GPU-Util  Compute M. |\n",
            "|                               |                      |               MIG M. |\n",
            "|===============================+======================+======================|\n",
            "|   0  Tesla T4            Off  | 00000000:00:04.0 Off |                    0 |\n",
            "| N/A   42C    P8    10W /  70W |      0MiB / 15360MiB |      0%      Default |\n",
            "|                               |                      |                  N/A |\n",
            "+-------------------------------+----------------------+----------------------+\n",
            "                                                                               \n",
            "+-----------------------------------------------------------------------------+\n",
            "| Processes:                                                                  |\n",
            "|  GPU   GI   CI        PID   Type   Process name                  GPU Memory |\n",
            "|        ID   ID                                                   Usage      |\n",
            "|=============================================================================|\n",
            "|  No running processes found                                                 |\n",
            "+-----------------------------------------------------------------------------+\n"
          ]
        }
      ],
      "source": [
        "!nvidia-smi"
      ]
    },
    {
      "cell_type": "markdown",
      "source": [
        "## Check version"
      ],
      "metadata": {
        "id": "QN2lnDyWl_Va"
      }
    },
    {
      "cell_type": "code",
      "execution_count": 4,
      "metadata": {
        "id": "vvTczdFsh96E",
        "colab": {
          "base_uri": "https://localhost:8080/"
        },
        "outputId": "9273893b-3726-4a77-8508-7e6ebb608d4e"
      },
      "outputs": [
        {
          "output_type": "stream",
          "name": "stdout",
          "text": [
            "Python version: 3.10.12 (main, Jun 11 2023, 05:26:28) [GCC 11.4.0]\n",
            "Tensorflow version 2.14.0\n",
            "Qibo version 0.2.1\n"
          ]
        }
      ],
      "source": [
        "import qibo, sys\n",
        "import tensorflow as tf\n",
        "print('Python version:', sys.version)\n",
        "print('Tensorflow version', tf.__version__)\n",
        "print('Qibo version', qibo.__version__)"
      ]
    },
    {
      "cell_type": "markdown",
      "source": [
        "## Quantum cicuits in Qibo\n",
        "\n",
        "We can change to GPU:\n",
        "\n",
        "* Runtime/Entorno de ejecución\n",
        "* Change runtime type/Cambiar tipo de entorno de ejecución\n",
        "* Select T4 GPU\n",
        "\n",
        "It's pretty faster than in CPU."
      ],
      "metadata": {
        "id": "pb2G-gGloIRp"
      }
    },
    {
      "cell_type": "code",
      "execution_count": 36,
      "metadata": {
        "colab": {
          "base_uri": "https://localhost:8080/"
        },
        "id": "v6BFsqLeh96F",
        "outputId": "c25cda3d-8792-48c2-84c7-9bfb49f3ef66"
      },
      "outputs": [
        {
          "output_type": "stream",
          "name": "stdout",
          "text": [
            "CPU times: user 3.67 s, sys: 1.39 s, total: 5.07 s\n",
            "Wall time: 34.3 s\n"
          ]
        }
      ],
      "source": [
        "%%time\n",
        "from qibo.models import QFT\n",
        "\n",
        "c = QFT(25)\n",
        "result = c()"
      ]
    },
    {
      "cell_type": "markdown",
      "source": [
        "To access the final state in Dirac notation execute `c.final_state`."
      ],
      "metadata": {
        "id": "VTucm2zKufwk"
      }
    },
    {
      "cell_type": "code",
      "source": [
        "c.final_state"
      ],
      "metadata": {
        "colab": {
          "base_uri": "https://localhost:8080/"
        },
        "id": "X0lYSxIiuITb",
        "outputId": "2d7b606c-6a99-4d00-8cd1-da78fcbf9616"
      },
      "execution_count": 37,
      "outputs": [
        {
          "output_type": "execute_result",
          "data": {
            "text/plain": [
              "(0.00017+0j)|0000000000000000000000000> + (0.00017+0j)|0000000000000000000000001> + (0.00017+0j)|0000000000000000000000010> + (0.00017+0j)|0000000000000000000000011> + (0.00017+0j)|0000000000000000000000100> + (0.00017+0j)|0000000000000000000000101> + (0.00017+0j)|0000000000000000000000110> + (0.00017+0j)|0000000000000000000000111> + (0.00017+0j)|0000000000000000000001000> + (0.00017+0j)|0000000000000000000001001> + (0.00017+0j)|0000000000000000000001010> + (0.00017+0j)|0000000000000000000001011> + (0.00017+0j)|0000000000000000000001100> + (0.00017+0j)|0000000000000000000001101> + (0.00017+0j)|0000000000000000000001110> + (0.00017+0j)|0000000000000000000001111> + (0.00017+0j)|0000000000000000000010000> + (0.00017+0j)|0000000000000000000010001> + (0.00017+0j)|0000000000000000000010010> + (0.00017+0j)|0000000000000000000010011> + ..."
            ]
          },
          "metadata": {},
          "execution_count": 37
        }
      ]
    },
    {
      "cell_type": "markdown",
      "source": [
        "To get the matrix representation, execute `.state()`.\n",
        "\n",
        "We obtain a vector of dimension $2^{25}$ with double precision"
      ],
      "metadata": {
        "id": "GhZNYVf0v95S"
      }
    },
    {
      "cell_type": "code",
      "source": [
        "print(result.state())\n",
        "print('\\nIn numpy:')\n",
        "# Or in numpy\n",
        "print(result.state(numpy=True))"
      ],
      "metadata": {
        "colab": {
          "base_uri": "https://localhost:8080/"
        },
        "id": "za8dL0PnvA4F",
        "outputId": "67b613ec-31d7-463e-87f5-a54d1447ff68"
      },
      "execution_count": 38,
      "outputs": [
        {
          "output_type": "stream",
          "name": "stdout",
          "text": [
            "tf.Tensor(\n",
            "[0.00017263+0.j 0.00017263+0.j 0.00017263+0.j ... 0.00017263+0.j\n",
            " 0.00017263+0.j 0.00017263+0.j], shape=(33554432,), dtype=complex128)\n",
            "\n",
            "In numpy:\n",
            "[0.00017263+0.j 0.00017263+0.j 0.00017263+0.j ... 0.00017263+0.j\n",
            " 0.00017263+0.j 0.00017263+0.j]\n"
          ]
        }
      ]
    },
    {
      "cell_type": "code",
      "source": [
        "print(result.state().dtype)"
      ],
      "metadata": {
        "colab": {
          "base_uri": "https://localhost:8080/"
        },
        "id": "n6kWRdm-LgWv",
        "outputId": "1bada41b-9697-4a33-aa03-2f5d3624cbbd"
      },
      "execution_count": 41,
      "outputs": [
        {
          "output_type": "stream",
          "name": "stdout",
          "text": [
            "<dtype: 'complex128'>\n"
          ]
        }
      ]
    },
    {
      "cell_type": "markdown",
      "source": [
        "## Quantum Fourier Transform\n",
        "\n",
        "We can implement a QFT circuit by hand.\n",
        "\n",
        "Let us try with a simpler cicuit, 4 qubits, with less qubits, to shorten the diagram."
      ],
      "metadata": {
        "id": "frc5jQ1rqyFH"
      }
    },
    {
      "cell_type": "code",
      "source": [
        "from qibo import Circuit, gates\n",
        "import numpy as np\n",
        "nqubits = 4\n",
        "circuit = Circuit(nqubits)\n",
        "\n",
        "# Add gates\n",
        "for i1 in range(nqubits):\n",
        "  circuit.add(gates.H(i1))\n",
        "  for i2 in range(i1+1, nqubits):\n",
        "    theta = np.pi / 2 ** (i2-i1)\n",
        "    circuit.add(gates.CU1(i2,i1, theta))\n",
        "\n",
        "print(circuit.draw())\n",
        "print()\n",
        "print(circuit.summary())"
      ],
      "metadata": {
        "colab": {
          "base_uri": "https://localhost:8080/"
        },
        "id": "dWtSG5EvkPTG",
        "outputId": "97602e17-dd6c-4edd-8450-1c92cb8718f0"
      },
      "execution_count": 13,
      "outputs": [
        {
          "output_type": "stream",
          "name": "stdout",
          "text": [
            "q0: ─H─U1─U1─U1────────────────\n",
            "q1: ───o──|──|──H─U1─U1────────\n",
            "q2: ──────o──|────o──|──H─U1───\n",
            "q3: ─────────o───────o────o──H─\n",
            "\n",
            "Circuit depth = 7\n",
            "Total number of gates = 10\n",
            "Number of qubits = 4\n",
            "Most common gates:\n",
            "cu1: 6\n",
            "h: 4\n"
          ]
        }
      ]
    },
    {
      "cell_type": "code",
      "source": [
        "%%time\n",
        "circuit()"
      ],
      "metadata": {
        "colab": {
          "base_uri": "https://localhost:8080/"
        },
        "id": "kOegu8VGkRRC",
        "outputId": "8f0e8e24-3058-4eab-852f-e4a897cd793b"
      },
      "execution_count": 14,
      "outputs": [
        {
          "output_type": "stream",
          "name": "stdout",
          "text": [
            "CPU times: user 42.5 ms, sys: 0 ns, total: 42.5 ms\n",
            "Wall time: 41.8 ms\n"
          ]
        },
        {
          "output_type": "execute_result",
          "data": {
            "text/plain": [
              "(0.25+0j)|0000> + (0.25+0j)|0001> + (0.25+0j)|0010> + (0.25+0j)|0011> + (0.25+0j)|0100> + (0.25+0j)|0101> + (0.25+0j)|0110> + (0.25+0j)|0111> + (0.25+0j)|1000> + (0.25+0j)|1001> + (0.25+0j)|1010> + (0.25+0j)|1011> + (0.25+0j)|1100> + (0.25+0j)|1101> + (0.25+0j)|1110> + (0.25+0j)|1111>"
            ]
          },
          "metadata": {},
          "execution_count": 14
        }
      ]
    },
    {
      "cell_type": "markdown",
      "source": [
        "Which is a vector with $2^4=16$ dimensions.\n",
        "\n",
        "## Performing measurements"
      ],
      "metadata": {
        "id": "bNGwYYq1Gsd0"
      }
    },
    {
      "cell_type": "code",
      "source": [
        "circuit = Circuit(2)\n",
        "circuit.add(gates.RY(0, theta=np.pi / 3))\n",
        "circuit.add(gates.RY(1, theta=np.pi / 2))\n",
        "circuit.add(gates.M(0))\n",
        "circuit.add(gates.M(1))\n",
        "\n",
        "shots = circuit(nshots=1000)\n",
        "print(shots)"
      ],
      "metadata": {
        "colab": {
          "base_uri": "https://localhost:8080/"
        },
        "id": "LMJ-tYSTIT7O",
        "outputId": "09b53bf3-9696-4e7d-d77d-fec5f78f3aae"
      },
      "execution_count": 31,
      "outputs": [
        {
          "output_type": "stream",
          "name": "stdout",
          "text": [
            "(0.61237+0j)|00> + (0.61237+0j)|01> + (0.35355+0j)|10> + (0.35355+0j)|11>\n"
          ]
        }
      ]
    },
    {
      "cell_type": "code",
      "source": [
        "shots.samples(binary=True)"
      ],
      "metadata": {
        "colab": {
          "base_uri": "https://localhost:8080/"
        },
        "id": "t6RUpRNJIsym",
        "outputId": "222085e7-a0ad-48f4-f3d6-bcc15a1c2164"
      },
      "execution_count": 32,
      "outputs": [
        {
          "output_type": "execute_result",
          "data": {
            "text/plain": [
              "array([[0, 0],\n",
              "       [1, 0],\n",
              "       [1, 1],\n",
              "       ...,\n",
              "       [0, 0],\n",
              "       [0, 0],\n",
              "       [1, 0]], dtype=int32)"
            ]
          },
          "metadata": {},
          "execution_count": 32
        }
      ]
    },
    {
      "cell_type": "code",
      "source": [
        "shots.frequencies()"
      ],
      "metadata": {
        "colab": {
          "base_uri": "https://localhost:8080/"
        },
        "id": "k2I-BvKoI4pT",
        "outputId": "096d2b09-0f09-421e-ec3c-1344b3762a83"
      },
      "execution_count": 33,
      "outputs": [
        {
          "output_type": "execute_result",
          "data": {
            "text/plain": [
              "Counter({'00': 419, '10': 129, '11': 120, '01': 332})"
            ]
          },
          "metadata": {},
          "execution_count": 33
        }
      ]
    },
    {
      "cell_type": "markdown",
      "source": [
        "Plot results in a histogram"
      ],
      "metadata": {
        "id": "iU2Bm0P-JDr7"
      }
    },
    {
      "cell_type": "code",
      "source": [
        "import matplotlib\n",
        "import matplotlib.pyplot as plt\n",
        "# from matplotlib import animation\n",
        "matplotlib.rcParams['mathtext.fontset'] = 'cm'\n",
        "matplotlib.rcParams['font.family'] = 'STIXGeneral'\n",
        "matplotlib.rcParams[\"font.size\"] = 10"
      ],
      "metadata": {
        "id": "y8ZPRjeNKPkI"
      },
      "execution_count": 34,
      "outputs": []
    },
    {
      "cell_type": "code",
      "source": [
        "labels, values = zip(*shots.frequencies().items())\n",
        "plt.figure(figsize=(3,4))\n",
        "plt.bar(labels, values, width=0.5)\n",
        "plt.show()"
      ],
      "metadata": {
        "colab": {
          "base_uri": "https://localhost:8080/",
          "height": 368
        },
        "id": "30Sy1Oo0I6ve",
        "outputId": "8ff3eee3-b074-480c-d2e1-07a9c5530b91"
      },
      "execution_count": 35,
      "outputs": [
        {
          "output_type": "display_data",
          "data": {
            "text/plain": [
              "<Figure size 300x400 with 1 Axes>"
            ],
            "image/png": "[encoded data removed]"
          },
          "metadata": {}
        }
      ]
    },
    {
      "cell_type": "markdown",
      "source": [
        "## Managing simulation deviced\n",
        "\n",
        "Qibo uses Tensorflow to perform the linear algebra calculations required for the simulation of quantum circuits. It is possible to view the devices that are available to Tensorflow:"
      ],
      "metadata": {
        "id": "RGjs6UyxMXQQ"
      }
    },
    {
      "cell_type": "code",
      "source": [
        "print(tf.config.list_physical_devices())"
      ],
      "metadata": {
        "colab": {
          "base_uri": "https://localhost:8080/"
        },
        "id": "2jT3OIqZJbRz",
        "outputId": "f5dfab58-aecd-4e0b-9435-c913f49694b1"
      },
      "execution_count": 42,
      "outputs": [
        {
          "output_type": "stream",
          "name": "stdout",
          "text": [
            "[PhysicalDevice(name='/physical_device:CPU:0', device_type='CPU'), PhysicalDevice(name='/physical_device:GPU:0', device_type='GPU')]\n"
          ]
        }
      ]
    },
    {
      "cell_type": "code",
      "source": [
        "import time\n",
        "qibo.set_device(\"/CPU:0\")\n",
        "\n",
        "circuit = Circuit(25)\n",
        "circuit.add((gates.H(i) for i in range(circuit.nqubits)))\n",
        "\n",
        "start_time = time.time()\n",
        "final_state = circuit()\n",
        "print(\"Time elapsed:\", time.time() - start_time)"
      ],
      "metadata": {
        "colab": {
          "base_uri": "https://localhost:8080/"
        },
        "id": "bb9q2dCdMR05",
        "outputId": "26364623-0e58-4301-c13f-d6ed8246f4f3"
      },
      "execution_count": 43,
      "outputs": [
        {
          "output_type": "stream",
          "name": "stderr",
          "text": [
            "[Qibo 0.2.1|INFO|2023-10-29 16:12:29]: Using tensorflow backend on /CPU:0\n",
            "INFO:qibo.config:Using tensorflow backend on /CPU:0\n"
          ]
        },
        {
          "output_type": "stream",
          "name": "stdout",
          "text": [
            "Time elapsed: 247.2311589717865\n"
          ]
        }
      ]
    },
    {
      "cell_type": "code",
      "source": [
        "qibo.set_device(\"/GPU:0\")\n",
        "\n",
        "circuit = Circuit(25)\n",
        "circuit.add((gates.H(i) for i in range(circuit.nqubits)))\n",
        "\n",
        "start_time = time.time()\n",
        "final_state = circuit()\n",
        "print(\"Time elapsed:\", time.time() - start_time)"
      ],
      "metadata": {
        "colab": {
          "base_uri": "https://localhost:8080/"
        },
        "id": "ppgsO1w9NUgc",
        "outputId": "05aec604-99c8-49e1-f288-550ebaca78d7"
      },
      "execution_count": 44,
      "outputs": [
        {
          "output_type": "stream",
          "name": "stderr",
          "text": [
            "[Qibo 0.2.1|INFO|2023-10-29 16:16:36]: Using tensorflow backend on /GPU:0\n",
            "INFO:qibo.config:Using tensorflow backend on /GPU:0\n"
          ]
        },
        {
          "output_type": "stream",
          "name": "stdout",
          "text": [
            "Time elapsed: 0.03386998176574707\n"
          ]
        }
      ]
    },
    {
      "cell_type": "markdown",
      "source": [
        "### Executing on multiple-GPUs\n",
        "\n",
        "Execute circuits on multiple GPUs with `accelerators` dictionary specifying which devices to use when creating the circuit:"
      ],
      "metadata": {
        "id": "uwsak7vLN0Bp"
      }
    },
    {
      "cell_type": "code",
      "source": [
        "circuit = Circuit(30)\n",
        "print(circuit)\n",
        "\n",
        "circuit = Circuit(30, accelerators={\"/GPU:0\": 1, \"/GPU:1\": 1})\n",
        "print(circuit)"
      ],
      "metadata": {
        "colab": {
          "base_uri": "https://localhost:8080/"
        },
        "id": "zlw3d993Nx6u",
        "outputId": "e1bc957f-9384-4057-8a42-23c8f4d92282"
      },
      "execution_count": 47,
      "outputs": [
        {
          "output_type": "stream",
          "name": "stdout",
          "text": [
            "<qibo.models.circuit.Circuit object at 0x7b2bf03f9d50>\n",
            "<qibo.models.circuit.Circuit object at 0x7b2bf03fa410>\n"
          ]
        }
      ]
    },
    {
      "cell_type": "markdown",
      "source": [
        "The implementation of `DistributedCircuit`is based on standard techniques of multi-node quantum simulation (see Sec. 3.4 of [arXiv:1704.01127](https://arxiv.org/abs/1704.01127))."
      ],
      "metadata": {
        "id": "AzNvO1L9PeaT"
      }
    },
    {
      "cell_type": "code",
      "source": [],
      "metadata": {
        "id": "twIlORHrOdZc"
      },
      "execution_count": null,
      "outputs": []
    }
  ],
  "metadata": {
    "kernelspec": {
      "display_name": "Python 3",
      "name": "python3"
    },
    "language_info": {
      "codemirror_mode": {
        "name": "ipython",
        "version": 3
      },
      "file_extension": ".py",
      "mimetype": "text/x-python",
      "name": "python",
      "nbconvert_exporter": "python",
      "pygments_lexer": "ipython3",
      "version": "3.11.5"
    },
    "colab": {
      "provenance": [],
      "gpuType": "T4"
    },
    "accelerator": "GPU"
  },
  "nbformat": 4,
  "nbformat_minor": 0
}